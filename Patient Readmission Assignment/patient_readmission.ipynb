{
 "cells": [
  {
   "cell_type": "code",
   "execution_count": 161,
   "metadata": {},
   "outputs": [],
   "source": [
    "import pandas as pd\n",
    "import numpy as np\n",
    "import seaborn as sns\n",
    "from sklearn.preprocessing import LabelEncoder, OneHotEncoder"
   ]
  },
  {
   "cell_type": "markdown",
   "metadata": {},
   "source": [
    "# Import Data"
   ]
  },
  {
   "cell_type": "code",
   "execution_count": 162,
   "metadata": {},
   "outputs": [
    {
     "name": "stdout",
     "output_type": "stream",
     "text": [
      "(31513, 7)\n"
     ]
    },
    {
     "data": {
      "text/html": [
       "<div>\n",
       "<style scoped>\n",
       "    .dataframe tbody tr th:only-of-type {\n",
       "        vertical-align: middle;\n",
       "    }\n",
       "\n",
       "    .dataframe tbody tr th {\n",
       "        vertical-align: top;\n",
       "    }\n",
       "\n",
       "    .dataframe thead th {\n",
       "        text-align: right;\n",
       "    }\n",
       "</style>\n",
       "<table border=\"1\" class=\"dataframe\">\n",
       "  <thead>\n",
       "    <tr style=\"text-align: right;\">\n",
       "      <th></th>\n",
       "      <th>patientID</th>\n",
       "      <th>race</th>\n",
       "      <th>gender</th>\n",
       "      <th>age</th>\n",
       "      <th>weight</th>\n",
       "      <th>Target</th>\n",
       "      <th>istrain</th>\n",
       "    </tr>\n",
       "  </thead>\n",
       "  <tbody>\n",
       "    <tr>\n",
       "      <th>0</th>\n",
       "      <td>PT456611</td>\n",
       "      <td>type3</td>\n",
       "      <td>Female</td>\n",
       "      <td>[90-100)</td>\n",
       "      <td>NaN</td>\n",
       "      <td>No</td>\n",
       "      <td>1</td>\n",
       "    </tr>\n",
       "    <tr>\n",
       "      <th>1</th>\n",
       "      <td>PT956824</td>\n",
       "      <td>type1</td>\n",
       "      <td>Male</td>\n",
       "      <td>[50-60)</td>\n",
       "      <td>NaN</td>\n",
       "      <td>Yes</td>\n",
       "      <td>1</td>\n",
       "    </tr>\n",
       "    <tr>\n",
       "      <th>2</th>\n",
       "      <td>PT453330</td>\n",
       "      <td>type3</td>\n",
       "      <td>Female</td>\n",
       "      <td>[80-90)</td>\n",
       "      <td>NaN</td>\n",
       "      <td>No</td>\n",
       "      <td>1</td>\n",
       "    </tr>\n",
       "    <tr>\n",
       "      <th>3</th>\n",
       "      <td>PT677563</td>\n",
       "      <td>type3</td>\n",
       "      <td>Female</td>\n",
       "      <td>[50-60)</td>\n",
       "      <td>NaN</td>\n",
       "      <td>No</td>\n",
       "      <td>1</td>\n",
       "    </tr>\n",
       "    <tr>\n",
       "      <th>4</th>\n",
       "      <td>PT102924</td>\n",
       "      <td>type3</td>\n",
       "      <td>Male</td>\n",
       "      <td>[60-70)</td>\n",
       "      <td>NaN</td>\n",
       "      <td>Yes</td>\n",
       "      <td>1</td>\n",
       "    </tr>\n",
       "  </tbody>\n",
       "</table>\n",
       "</div>"
      ],
      "text/plain": [
       "  patientID   race  gender       age weight Target  istrain\n",
       "0  PT456611  type3  Female  [90-100)    NaN     No        1\n",
       "1  PT956824  type1    Male   [50-60)    NaN    Yes        1\n",
       "2  PT453330  type3  Female   [80-90)    NaN     No        1\n",
       "3  PT677563  type3  Female   [50-60)    NaN     No        1\n",
       "4  PT102924  type3    Male   [60-70)    NaN    Yes        1"
      ]
     },
     "execution_count": 162,
     "metadata": {},
     "output_type": "execute_result"
    }
   ],
   "source": [
    "BASE_DIR = 'E:\\\\workspace\\\\python\\scikitlearn\\\\onbaording2\\\\ML-onboarding\\\\Patient Readmission Assignment\\\\'\n",
    "patient_data = pd.read_csv(BASE_DIR + 'Patientdata.csv')\n",
    "print(patient_data.shape)\n",
    "patient_data.head()"
   ]
  },
  {
   "cell_type": "code",
   "execution_count": 163,
   "metadata": {},
   "outputs": [
    {
     "data": {
      "text/plain": [
       "<matplotlib.axes._subplots.AxesSubplot at 0x1b8ddfe79e8>"
      ]
     },
     "execution_count": 163,
     "metadata": {},
     "output_type": "execute_result"
    },
    {
     "data": {
      "image/png": "[encoded data removed]",
      "text/plain": [
       "<Figure size 432x288 with 1 Axes>"
      ]
     },
     "metadata": {
      "needs_background": "light"
     },
     "output_type": "display_data"
    }
   ],
   "source": [
    "sns.countplot(patient_data['race'])"
   ]
  },
  {
   "cell_type": "code",
   "execution_count": 164,
   "metadata": {},
   "outputs": [
    {
     "data": {
      "text/plain": [
       "<matplotlib.axes._subplots.AxesSubplot at 0x1b8de01ea90>"
      ]
     },
     "execution_count": 164,
     "metadata": {},
     "output_type": "execute_result"
    },
    {
     "data": {
      "image/png": "[encoded data removed]",
      "text/plain": [
       "<Figure size 432x288 with 1 Axes>"
      ]
     },
     "metadata": {
      "needs_background": "light"
     },
     "output_type": "display_data"
    }
   ],
   "source": [
    "sns.countplot(patient_data.loc[patient_data['Target'] == 'Yes', 'gender'])"
   ]
  },
  {
   "cell_type": "code",
   "execution_count": 165,
   "metadata": {},
   "outputs": [
    {
     "data": {
      "text/plain": [
       "<matplotlib.axes._subplots.AxesSubplot at 0x1b8dedcf898>"
      ]
     },
     "execution_count": 165,
     "metadata": {},
     "output_type": "execute_result"
    },
    {
     "data": {
      "image/png": "[encoded data removed]",
      "text/plain": [
       "<Figure size 432x288 with 1 Axes>"
      ]
     },
     "metadata": {
      "needs_background": "light"
     },
     "output_type": "display_data"
    }
   ],
   "source": [
    "sns.countplot(patient_data.loc[patient_data['Target'] == 'Yes', 'race'])"
   ]
  },
  {
   "cell_type": "code",
   "execution_count": 166,
   "metadata": {},
   "outputs": [
    {
     "data": {
      "text/plain": [
       "<matplotlib.axes._subplots.AxesSubplot at 0x1b8dee27ac8>"
      ]
     },
     "execution_count": 166,
     "metadata": {},
     "output_type": "execute_result"
    },
    {
     "data": {
      "image/png": "[encoded data removed]",
      "text/plain": [
       "<Figure size 432x288 with 1 Axes>"
      ]
     },
     "metadata": {
      "needs_background": "light"
     },
     "output_type": "display_data"
    }
   ],
   "source": [
    "sns.countplot(patient_data.loc[patient_data['Target'] == 'No', 'race'])"
   ]
  },
  {
   "cell_type": "code",
   "execution_count": 167,
   "metadata": {},
   "outputs": [
    {
     "name": "stdout",
     "output_type": "stream",
     "text": [
      "(31513, 9)\n"
     ]
    },
    {
     "data": {
      "text/html": [
       "<div>\n",
       "<style scoped>\n",
       "    .dataframe tbody tr th:only-of-type {\n",
       "        vertical-align: middle;\n",
       "    }\n",
       "\n",
       "    .dataframe tbody tr th {\n",
       "        vertical-align: top;\n",
       "    }\n",
       "\n",
       "    .dataframe thead th {\n",
       "        text-align: right;\n",
       "    }\n",
       "</style>\n",
       "<table border=\"1\" class=\"dataframe\">\n",
       "  <thead>\n",
       "    <tr style=\"text-align: right;\">\n",
       "      <th></th>\n",
       "      <th>AdmissionID</th>\n",
       "      <th>patientID</th>\n",
       "      <th>Admission_date</th>\n",
       "      <th>Discharge_date</th>\n",
       "      <th>admission_type_id</th>\n",
       "      <th>admission_source_id</th>\n",
       "      <th>payer_code</th>\n",
       "      <th>medical_specialty</th>\n",
       "      <th>istrain</th>\n",
       "    </tr>\n",
       "  </thead>\n",
       "  <tbody>\n",
       "    <tr>\n",
       "      <th>0</th>\n",
       "      <td>AD988251</td>\n",
       "      <td>PT456611</td>\n",
       "      <td>2015-05-04</td>\n",
       "      <td>2015-05-07</td>\n",
       "      <td>1</td>\n",
       "      <td>1</td>\n",
       "      <td>PC8</td>\n",
       "      <td>NaN</td>\n",
       "      <td>1</td>\n",
       "    </tr>\n",
       "    <tr>\n",
       "      <th>1</th>\n",
       "      <td>AD725487</td>\n",
       "      <td>PT956824</td>\n",
       "      <td>2014-02-20</td>\n",
       "      <td>2014-02-23</td>\n",
       "      <td>1</td>\n",
       "      <td>7</td>\n",
       "      <td>PC1</td>\n",
       "      <td>Oncology</td>\n",
       "      <td>1</td>\n",
       "    </tr>\n",
       "    <tr>\n",
       "      <th>2</th>\n",
       "      <td>AD492141</td>\n",
       "      <td>PT453330</td>\n",
       "      <td>2015-06-01</td>\n",
       "      <td>2015-06-04</td>\n",
       "      <td>1</td>\n",
       "      <td>7</td>\n",
       "      <td>PC8</td>\n",
       "      <td>NaN</td>\n",
       "      <td>1</td>\n",
       "    </tr>\n",
       "    <tr>\n",
       "      <th>3</th>\n",
       "      <td>AD561393</td>\n",
       "      <td>PT677563</td>\n",
       "      <td>2015-12-18</td>\n",
       "      <td>2015-12-20</td>\n",
       "      <td>2</td>\n",
       "      <td>1</td>\n",
       "      <td>NaN</td>\n",
       "      <td>Cardiology</td>\n",
       "      <td>1</td>\n",
       "    </tr>\n",
       "    <tr>\n",
       "      <th>4</th>\n",
       "      <td>AD619257</td>\n",
       "      <td>PT102924</td>\n",
       "      <td>2015-08-19</td>\n",
       "      <td>2015-08-20</td>\n",
       "      <td>3</td>\n",
       "      <td>1</td>\n",
       "      <td>NaN</td>\n",
       "      <td>NaN</td>\n",
       "      <td>1</td>\n",
       "    </tr>\n",
       "  </tbody>\n",
       "</table>\n",
       "</div>"
      ],
      "text/plain": [
       "  AdmissionID patientID Admission_date Discharge_date  admission_type_id  \\\n",
       "0    AD988251  PT456611     2015-05-04     2015-05-07                  1   \n",
       "1    AD725487  PT956824     2014-02-20     2014-02-23                  1   \n",
       "2    AD492141  PT453330     2015-06-01     2015-06-04                  1   \n",
       "3    AD561393  PT677563     2015-12-18     2015-12-20                  2   \n",
       "4    AD619257  PT102924     2015-08-19     2015-08-20                  3   \n",
       "\n",
       "   admission_source_id payer_code medical_specialty  istrain  \n",
       "0                    1        PC8               NaN        1  \n",
       "1                    7        PC1          Oncology        1  \n",
       "2                    7        PC8               NaN        1  \n",
       "3                    1        NaN        Cardiology        1  \n",
       "4                    1        NaN               NaN        1  "
      ]
     },
     "execution_count": 167,
     "metadata": {},
     "output_type": "execute_result"
    }
   ],
   "source": [
    "hospital_data = pd.read_csv(BASE_DIR + 'HospitalData.csv')\n",
    "print(hospital_data.shape)\n",
    "hospital_data.head()"
   ]
  },
  {
   "cell_type": "code",
   "execution_count": 168,
   "metadata": {},
   "outputs": [
    {
     "name": "stdout",
     "output_type": "stream",
     "text": [
      "(31513, 29)\n"
     ]
    },
    {
     "data": {
      "text/html": [
       "<div>\n",
       "<style scoped>\n",
       "    .dataframe tbody tr th:only-of-type {\n",
       "        vertical-align: middle;\n",
       "    }\n",
       "\n",
       "    .dataframe tbody tr th {\n",
       "        vertical-align: top;\n",
       "    }\n",
       "\n",
       "    .dataframe thead th {\n",
       "        text-align: right;\n",
       "    }\n",
       "</style>\n",
       "<table border=\"1\" class=\"dataframe\">\n",
       "  <thead>\n",
       "    <tr style=\"text-align: right;\">\n",
       "      <th></th>\n",
       "      <th>patientID</th>\n",
       "      <th>num_procedures</th>\n",
       "      <th>num_medications</th>\n",
       "      <th>num_diagnoses</th>\n",
       "      <th>max_glu_serum</th>\n",
       "      <th>A1Cresult</th>\n",
       "      <th>metformin</th>\n",
       "      <th>repaglinide</th>\n",
       "      <th>nateglinide</th>\n",
       "      <th>chlorpropamide</th>\n",
       "      <th>...</th>\n",
       "      <th>troglitazone</th>\n",
       "      <th>tolazamide</th>\n",
       "      <th>insulin</th>\n",
       "      <th>glyburide.metformin</th>\n",
       "      <th>glipizide.metformin</th>\n",
       "      <th>metformin.rosiglitazone</th>\n",
       "      <th>metformin.pioglitazone</th>\n",
       "      <th>change</th>\n",
       "      <th>diabetesMed</th>\n",
       "      <th>istrain</th>\n",
       "    </tr>\n",
       "  </thead>\n",
       "  <tbody>\n",
       "    <tr>\n",
       "      <th>0</th>\n",
       "      <td>PT456611</td>\n",
       "      <td>0</td>\n",
       "      <td>11</td>\n",
       "      <td>9</td>\n",
       "      <td>None</td>\n",
       "      <td>None</td>\n",
       "      <td>No</td>\n",
       "      <td>No</td>\n",
       "      <td>No</td>\n",
       "      <td>No</td>\n",
       "      <td>...</td>\n",
       "      <td>No</td>\n",
       "      <td>No</td>\n",
       "      <td>Steady</td>\n",
       "      <td>No</td>\n",
       "      <td>No</td>\n",
       "      <td>No</td>\n",
       "      <td>No</td>\n",
       "      <td>Ch</td>\n",
       "      <td>Yes</td>\n",
       "      <td>1</td>\n",
       "    </tr>\n",
       "    <tr>\n",
       "      <th>1</th>\n",
       "      <td>PT956824</td>\n",
       "      <td>1</td>\n",
       "      <td>6</td>\n",
       "      <td>6</td>\n",
       "      <td>None</td>\n",
       "      <td>None</td>\n",
       "      <td>No</td>\n",
       "      <td>No</td>\n",
       "      <td>No</td>\n",
       "      <td>No</td>\n",
       "      <td>...</td>\n",
       "      <td>No</td>\n",
       "      <td>No</td>\n",
       "      <td>No</td>\n",
       "      <td>No</td>\n",
       "      <td>No</td>\n",
       "      <td>No</td>\n",
       "      <td>No</td>\n",
       "      <td>No</td>\n",
       "      <td>No</td>\n",
       "      <td>1</td>\n",
       "    </tr>\n",
       "    <tr>\n",
       "      <th>2</th>\n",
       "      <td>PT453330</td>\n",
       "      <td>2</td>\n",
       "      <td>27</td>\n",
       "      <td>9</td>\n",
       "      <td>None</td>\n",
       "      <td>None</td>\n",
       "      <td>No</td>\n",
       "      <td>No</td>\n",
       "      <td>No</td>\n",
       "      <td>No</td>\n",
       "      <td>...</td>\n",
       "      <td>No</td>\n",
       "      <td>No</td>\n",
       "      <td>No</td>\n",
       "      <td>No</td>\n",
       "      <td>No</td>\n",
       "      <td>No</td>\n",
       "      <td>No</td>\n",
       "      <td>No</td>\n",
       "      <td>No</td>\n",
       "      <td>1</td>\n",
       "    </tr>\n",
       "    <tr>\n",
       "      <th>3</th>\n",
       "      <td>PT677563</td>\n",
       "      <td>3</td>\n",
       "      <td>10</td>\n",
       "      <td>5</td>\n",
       "      <td>None</td>\n",
       "      <td>None</td>\n",
       "      <td>No</td>\n",
       "      <td>No</td>\n",
       "      <td>No</td>\n",
       "      <td>No</td>\n",
       "      <td>...</td>\n",
       "      <td>No</td>\n",
       "      <td>No</td>\n",
       "      <td>Steady</td>\n",
       "      <td>No</td>\n",
       "      <td>No</td>\n",
       "      <td>No</td>\n",
       "      <td>No</td>\n",
       "      <td>No</td>\n",
       "      <td>Yes</td>\n",
       "      <td>1</td>\n",
       "    </tr>\n",
       "    <tr>\n",
       "      <th>4</th>\n",
       "      <td>PT102924</td>\n",
       "      <td>6</td>\n",
       "      <td>12</td>\n",
       "      <td>9</td>\n",
       "      <td>None</td>\n",
       "      <td>None</td>\n",
       "      <td>No</td>\n",
       "      <td>No</td>\n",
       "      <td>No</td>\n",
       "      <td>No</td>\n",
       "      <td>...</td>\n",
       "      <td>No</td>\n",
       "      <td>No</td>\n",
       "      <td>No</td>\n",
       "      <td>No</td>\n",
       "      <td>No</td>\n",
       "      <td>No</td>\n",
       "      <td>No</td>\n",
       "      <td>No</td>\n",
       "      <td>No</td>\n",
       "      <td>1</td>\n",
       "    </tr>\n",
       "  </tbody>\n",
       "</table>\n",
       "<p>5 rows × 29 columns</p>\n",
       "</div>"
      ],
      "text/plain": [
       "  patientID  num_procedures  num_medications  num_diagnoses max_glu_serum  \\\n",
       "0  PT456611               0               11              9          None   \n",
       "1  PT956824               1                6              6          None   \n",
       "2  PT453330               2               27              9          None   \n",
       "3  PT677563               3               10              5          None   \n",
       "4  PT102924               6               12              9          None   \n",
       "\n",
       "  A1Cresult metformin repaglinide nateglinide chlorpropamide  ...  \\\n",
       "0      None        No          No          No             No  ...   \n",
       "1      None        No          No          No             No  ...   \n",
       "2      None        No          No          No             No  ...   \n",
       "3      None        No          No          No             No  ...   \n",
       "4      None        No          No          No             No  ...   \n",
       "\n",
       "  troglitazone tolazamide insulin glyburide.metformin glipizide.metformin  \\\n",
       "0           No         No  Steady                  No                  No   \n",
       "1           No         No      No                  No                  No   \n",
       "2           No         No      No                  No                  No   \n",
       "3           No         No  Steady                  No                  No   \n",
       "4           No         No      No                  No                  No   \n",
       "\n",
       "  metformin.rosiglitazone metformin.pioglitazone change diabetesMed istrain  \n",
       "0                      No                     No     Ch         Yes       1  \n",
       "1                      No                     No     No          No       1  \n",
       "2                      No                     No     No          No       1  \n",
       "3                      No                     No     No         Yes       1  \n",
       "4                      No                     No     No          No       1  \n",
       "\n",
       "[5 rows x 29 columns]"
      ]
     },
     "execution_count": 168,
     "metadata": {},
     "output_type": "execute_result"
    }
   ],
   "source": [
    "diagnosis_data = pd.read_csv(BASE_DIR + 'DiagnosisData.csv')\n",
    "print(diagnosis_data.shape)\n",
    "diagnosis_data.head()"
   ]
  },
  {
   "cell_type": "markdown",
   "metadata": {},
   "source": [
    "# Data Cleaning"
   ]
  },
  {
   "cell_type": "code",
   "execution_count": 169,
   "metadata": {},
   "outputs": [
    {
     "data": {
      "text/plain": [
       "patientID        0\n",
       "race             0\n",
       "gender           0\n",
       "age              0\n",
       "weight       30569\n",
       "Target        7257\n",
       "istrain          0\n",
       "dtype: int64"
      ]
     },
     "execution_count": 169,
     "metadata": {},
     "output_type": "execute_result"
    }
   ],
   "source": [
    "patient_data.isnull().sum()"
   ]
  },
  {
   "cell_type": "markdown",
   "metadata": {},
   "source": [
    "__Too many missing values, Dropping weight column__"
   ]
  },
  {
   "cell_type": "code",
   "execution_count": 170,
   "metadata": {},
   "outputs": [
    {
     "data": {
      "text/plain": [
       "patientID       0\n",
       "race            0\n",
       "gender          0\n",
       "age             0\n",
       "Target       7257\n",
       "istrain         0\n",
       "dtype: int64"
      ]
     },
     "execution_count": 170,
     "metadata": {},
     "output_type": "execute_result"
    }
   ],
   "source": [
    "patient_data = patient_data.drop(columns=['weight'])\n",
    "patient_data.isnull().sum()"
   ]
  },
  {
   "cell_type": "code",
   "execution_count": 171,
   "metadata": {},
   "outputs": [
    {
     "data": {
      "text/html": [
       "<div>\n",
       "<style scoped>\n",
       "    .dataframe tbody tr th:only-of-type {\n",
       "        vertical-align: middle;\n",
       "    }\n",
       "\n",
       "    .dataframe tbody tr th {\n",
       "        vertical-align: top;\n",
       "    }\n",
       "\n",
       "    .dataframe thead th {\n",
       "        text-align: right;\n",
       "    }\n",
       "</style>\n",
       "<table border=\"1\" class=\"dataframe\">\n",
       "  <thead>\n",
       "    <tr style=\"text-align: right;\">\n",
       "      <th></th>\n",
       "      <th></th>\n",
       "      <th>patientID</th>\n",
       "      <th>race</th>\n",
       "      <th>age</th>\n",
       "      <th>istrain</th>\n",
       "    </tr>\n",
       "    <tr>\n",
       "      <th>gender</th>\n",
       "      <th>Target</th>\n",
       "      <th></th>\n",
       "      <th></th>\n",
       "      <th></th>\n",
       "      <th></th>\n",
       "    </tr>\n",
       "  </thead>\n",
       "  <tbody>\n",
       "    <tr>\n",
       "      <th rowspan=\"2\" valign=\"top\">Female</th>\n",
       "      <th>No</th>\n",
       "      <td>9304</td>\n",
       "      <td>9304</td>\n",
       "      <td>9304</td>\n",
       "      <td>9304</td>\n",
       "    </tr>\n",
       "    <tr>\n",
       "      <th>Yes</th>\n",
       "      <td>3423</td>\n",
       "      <td>3423</td>\n",
       "      <td>3423</td>\n",
       "      <td>3423</td>\n",
       "    </tr>\n",
       "    <tr>\n",
       "      <th rowspan=\"2\" valign=\"top\">Male</th>\n",
       "      <th>No</th>\n",
       "      <td>8482</td>\n",
       "      <td>8482</td>\n",
       "      <td>8482</td>\n",
       "      <td>8482</td>\n",
       "    </tr>\n",
       "    <tr>\n",
       "      <th>Yes</th>\n",
       "      <td>3047</td>\n",
       "      <td>3047</td>\n",
       "      <td>3047</td>\n",
       "      <td>3047</td>\n",
       "    </tr>\n",
       "  </tbody>\n",
       "</table>\n",
       "</div>"
      ],
      "text/plain": [
       "               patientID  race   age  istrain\n",
       "gender Target                                \n",
       "Female No           9304  9304  9304     9304\n",
       "       Yes          3423  3423  3423     3423\n",
       "Male   No           8482  8482  8482     8482\n",
       "       Yes          3047  3047  3047     3047"
      ]
     },
     "execution_count": 171,
     "metadata": {},
     "output_type": "execute_result"
    }
   ],
   "source": [
    "patient_data.groupby(['gender', 'Target']).count()"
   ]
  },
  {
   "cell_type": "code",
   "execution_count": 172,
   "metadata": {},
   "outputs": [
    {
     "data": {
      "text/plain": [
       "No     17786\n",
       "Yes     6470\n",
       "Name: Target, dtype: int64"
      ]
     },
     "execution_count": 172,
     "metadata": {},
     "output_type": "execute_result"
    }
   ],
   "source": [
    "patient_data['Target'].value_counts()"
   ]
  },
  {
   "cell_type": "code",
   "execution_count": 173,
   "metadata": {},
   "outputs": [
    {
     "data": {
      "text/plain": [
       "AdmissionID                0\n",
       "patientID                  0\n",
       "Admission_date             0\n",
       "Discharge_date             0\n",
       "admission_type_id          0\n",
       "admission_source_id        0\n",
       "payer_code             13210\n",
       "medical_specialty      14938\n",
       "istrain                    0\n",
       "dtype: int64"
      ]
     },
     "execution_count": 173,
     "metadata": {},
     "output_type": "execute_result"
    }
   ],
   "source": [
    "hospital_data.isnull().sum()"
   ]
  },
  {
   "cell_type": "code",
   "execution_count": 174,
   "metadata": {},
   "outputs": [
    {
     "data": {
      "text/plain": [
       "(296, 7)"
      ]
     },
     "execution_count": 174,
     "metadata": {},
     "output_type": "execute_result"
    }
   ],
   "source": [
    "hospital_data.groupby(['payer_code', 'medical_specialty']).count().shape"
   ]
  },
  {
   "cell_type": "code",
   "execution_count": 175,
   "metadata": {},
   "outputs": [
    {
     "name": "stdout",
     "output_type": "stream",
     "text": [
      "AdmissionID - ms (12779, 7)\n",
      "AdmissionID - pc (14045, 7)\n",
      "AdmissionID - pc + ms (6772, 6)\n",
      "patientID - ms (12779, 7)\n",
      "patientID - pc (14045, 7)\n",
      "patientID - pc + ms (6772, 6)\n",
      "Admission_date - ms (6898, 7)\n",
      "Admission_date - pc (5494, 7)\n",
      "Admission_date - pc + ms (5955, 6)\n",
      "Discharge_date - ms (6932, 7)\n",
      "Discharge_date - pc (5503, 7)\n",
      "Discharge_date - pc + ms (5913, 6)\n",
      "admission_type_id - ms (203, 7)\n",
      "admission_type_id - pc (65, 7)\n",
      "admission_type_id - pc + ms (574, 6)\n",
      "admission_source_id - ms (218, 7)\n",
      "admission_source_id - pc (95, 7)\n",
      "admission_source_id - pc + ms (604, 6)\n",
      "payer_code - ms (296, 7)\n",
      "payer_code - pc (17, 8)\n",
      "payer_code - pc + ms (296, 7)\n",
      "medical_specialty - ms (63, 8)\n",
      "medical_specialty - pc (296, 7)\n",
      "medical_specialty - pc + ms (296, 7)\n",
      "istrain - ms (114, 7)\n",
      "istrain - pc (33, 7)\n",
      "istrain - pc + ms (492, 6)\n"
     ]
    }
   ],
   "source": [
    "for col in hospital_data.columns.values:\n",
    "    print(col + ' - ms', hospital_data.groupby([col, 'medical_specialty']).count().shape)\n",
    "    print(col + ' - pc', hospital_data.groupby([col, 'payer_code']).count().shape)\n",
    "    print(col + ' - pc + ms', hospital_data.groupby([col, 'payer_code', 'medical_specialty']).count().shape)"
   ]
  },
  {
   "cell_type": "code",
   "execution_count": 176,
   "metadata": {},
   "outputs": [
    {
     "data": {
      "text/plain": [
       "1    15875\n",
       "3     6516\n",
       "2     5804\n",
       "6     1724\n",
       "5     1423\n",
       "8      151\n",
       "7       16\n",
       "4        4\n",
       "Name: admission_type_id, dtype: int64"
      ]
     },
     "execution_count": 176,
     "metadata": {},
     "output_type": "execute_result"
    }
   ],
   "source": [
    "hospital_data['admission_type_id'].value_counts()"
   ]
  },
  {
   "cell_type": "code",
   "execution_count": 177,
   "metadata": {},
   "outputs": [
    {
     "name": "stdout",
     "output_type": "stream",
     "text": [
      "1 6187 9199\n",
      "2 2272 1834\n",
      "3 2400 2504\n",
      "4 3 2\n",
      "5 475 925\n",
      "6 1722 438\n",
      "7 0 16\n",
      "8 151 20\n"
     ]
    }
   ],
   "source": [
    "for i in range(1, 9):\n",
    "    temp_1 = hospital_data[hospital_data['admission_type_id'] == i].isnull().sum()\n",
    "    print(i, temp_1['payer_code'], temp_1['medical_specialty'])"
   ]
  },
  {
   "cell_type": "code",
   "execution_count": 178,
   "metadata": {},
   "outputs": [
    {
     "data": {
      "text/plain": [
       "payer_code           13210\n",
       "medical_specialty    14938\n",
       "dtype: int64"
      ]
     },
     "execution_count": 178,
     "metadata": {},
     "output_type": "execute_result"
    }
   ],
   "source": [
    "hospital_data.isnull().sum()[['payer_code', 'medical_specialty']]"
   ]
  },
  {
   "cell_type": "markdown",
   "metadata": {},
   "source": [
    "__Could not find any correlation between payer_code and medical_specialty and other columns__\n",
    "\n",
    "since missing values are close to 50% dropping both the columns"
   ]
  },
  {
   "cell_type": "code",
   "execution_count": 179,
   "metadata": {},
   "outputs": [
    {
     "data": {
      "text/plain": [
       "(31513, 7)"
      ]
     },
     "execution_count": 179,
     "metadata": {},
     "output_type": "execute_result"
    }
   ],
   "source": [
    "hospital_data = hospital_data.drop(columns=['payer_code', 'medical_specialty'])\n",
    "hospital_data.shape"
   ]
  },
  {
   "cell_type": "code",
   "execution_count": 180,
   "metadata": {},
   "outputs": [
    {
     "data": {
      "text/html": [
       "<div>\n",
       "<style scoped>\n",
       "    .dataframe tbody tr th:only-of-type {\n",
       "        vertical-align: middle;\n",
       "    }\n",
       "\n",
       "    .dataframe tbody tr th {\n",
       "        vertical-align: top;\n",
       "    }\n",
       "\n",
       "    .dataframe thead th {\n",
       "        text-align: right;\n",
       "    }\n",
       "</style>\n",
       "<table border=\"1\" class=\"dataframe\">\n",
       "  <thead>\n",
       "    <tr style=\"text-align: right;\">\n",
       "      <th></th>\n",
       "      <th>AdmissionID</th>\n",
       "      <th>patientID</th>\n",
       "      <th>Admission_date</th>\n",
       "      <th>Discharge_date</th>\n",
       "      <th>admission_type_id</th>\n",
       "      <th>admission_source_id</th>\n",
       "      <th>istrain</th>\n",
       "    </tr>\n",
       "  </thead>\n",
       "  <tbody>\n",
       "    <tr>\n",
       "      <th>4081</th>\n",
       "      <td>AD203665</td>\n",
       "      <td>PT211934</td>\n",
       "      <td>2015-09-13</td>\n",
       "      <td>2015-09-15</td>\n",
       "      <td>4</td>\n",
       "      <td>4</td>\n",
       "      <td>1</td>\n",
       "    </tr>\n",
       "    <tr>\n",
       "      <th>9335</th>\n",
       "      <td>AD455935</td>\n",
       "      <td>PT861212</td>\n",
       "      <td>2016-01-27</td>\n",
       "      <td>2016-01-29</td>\n",
       "      <td>4</td>\n",
       "      <td>1</td>\n",
       "      <td>1</td>\n",
       "    </tr>\n",
       "    <tr>\n",
       "      <th>14038</th>\n",
       "      <td>AD667173</td>\n",
       "      <td>PT387379</td>\n",
       "      <td>2015-05-20</td>\n",
       "      <td>2015-05-23</td>\n",
       "      <td>4</td>\n",
       "      <td>14</td>\n",
       "      <td>1</td>\n",
       "    </tr>\n",
       "    <tr>\n",
       "      <th>25520</th>\n",
       "      <td>AD203665</td>\n",
       "      <td>PT211934</td>\n",
       "      <td>2015-09-13</td>\n",
       "      <td>2015-09-15</td>\n",
       "      <td>4</td>\n",
       "      <td>4</td>\n",
       "      <td>0</td>\n",
       "    </tr>\n",
       "  </tbody>\n",
       "</table>\n",
       "</div>"
      ],
      "text/plain": [
       "      AdmissionID patientID Admission_date Discharge_date  admission_type_id  \\\n",
       "4081     AD203665  PT211934     2015-09-13     2015-09-15                  4   \n",
       "9335     AD455935  PT861212     2016-01-27     2016-01-29                  4   \n",
       "14038    AD667173  PT387379     2015-05-20     2015-05-23                  4   \n",
       "25520    AD203665  PT211934     2015-09-13     2015-09-15                  4   \n",
       "\n",
       "       admission_source_id  istrain  \n",
       "4081                     4        1  \n",
       "9335                     1        1  \n",
       "14038                   14        1  \n",
       "25520                    4        0  "
      ]
     },
     "execution_count": 180,
     "metadata": {},
     "output_type": "execute_result"
    }
   ],
   "source": [
    "hospital_data[hospital_data['admission_type_id'] == 4]"
   ]
  },
  {
   "cell_type": "code",
   "execution_count": 181,
   "metadata": {},
   "outputs": [
    {
     "data": {
      "text/plain": [
       "dtype('<M8[ns]')"
      ]
     },
     "execution_count": 181,
     "metadata": {},
     "output_type": "execute_result"
    }
   ],
   "source": [
    "hospital_data['Admission_date'] = pd.to_datetime(hospital_data['Admission_date'], format='%Y-%m-%d')\n",
    "hospital_data['Admission_date'].dtype"
   ]
  },
  {
   "cell_type": "code",
   "execution_count": 182,
   "metadata": {},
   "outputs": [
    {
     "data": {
      "text/plain": [
       "0    201505\n",
       "1    201402\n",
       "2    201506\n",
       "3    201512\n",
       "4    201508\n",
       "Name: Admission_date, dtype: int64"
      ]
     },
     "execution_count": 182,
     "metadata": {},
     "output_type": "execute_result"
    }
   ],
   "source": [
    "hospital_data['Admission_date'] = hospital_data['Admission_date'].map(lambda x:100*x.year + x.month)\n",
    "hospital_data['Admission_date'].head()"
   ]
  },
  {
   "cell_type": "code",
   "execution_count": 183,
   "metadata": {},
   "outputs": [
    {
     "data": {
      "text/plain": [
       "dtype('<M8[ns]')"
      ]
     },
     "execution_count": 183,
     "metadata": {},
     "output_type": "execute_result"
    }
   ],
   "source": [
    "hospital_data['Discharge_date'] = pd.to_datetime(hospital_data['Discharge_date'], format='%Y-%m-%d')\n",
    "hospital_data['Discharge_date'].dtype"
   ]
  },
  {
   "cell_type": "code",
   "execution_count": 184,
   "metadata": {},
   "outputs": [
    {
     "data": {
      "text/plain": [
       "0    201505\n",
       "1    201402\n",
       "2    201506\n",
       "3    201512\n",
       "4    201508\n",
       "Name: Discharge_date, dtype: int64"
      ]
     },
     "execution_count": 184,
     "metadata": {},
     "output_type": "execute_result"
    }
   ],
   "source": [
    "hospital_data['Discharge_date'] = hospital_data['Discharge_date'].map(lambda x:100*x.year + x.month)\n",
    "hospital_data['Discharge_date'].head()"
   ]
  },
  {
   "cell_type": "code",
   "execution_count": 185,
   "metadata": {},
   "outputs": [
    {
     "data": {
      "text/plain": [
       "patientID                  0\n",
       "num_procedures             0\n",
       "num_medications            0\n",
       "num_diagnoses              0\n",
       "max_glu_serum              0\n",
       "A1Cresult                  0\n",
       "metformin                  0\n",
       "repaglinide                0\n",
       "nateglinide                0\n",
       "chlorpropamide             0\n",
       "glimepiride                0\n",
       "acetohexamide              0\n",
       "glipizide                  0\n",
       "glyburide                  0\n",
       "tolbutamide                0\n",
       "pioglitazone               0\n",
       "rosiglitazone              0\n",
       "acarbose                   0\n",
       "miglitol                   0\n",
       "troglitazone               0\n",
       "tolazamide                 0\n",
       "insulin                    0\n",
       "glyburide.metformin        0\n",
       "glipizide.metformin        0\n",
       "metformin.rosiglitazone    0\n",
       "metformin.pioglitazone     0\n",
       "change                     0\n",
       "diabetesMed                0\n",
       "istrain                    0\n",
       "dtype: int64"
      ]
     },
     "execution_count": 185,
     "metadata": {},
     "output_type": "execute_result"
    }
   ],
   "source": [
    "diagnosis_data.isnull().sum()"
   ]
  },
  {
   "cell_type": "code",
   "execution_count": 186,
   "metadata": {},
   "outputs": [
    {
     "name": "stdout",
     "output_type": "stream",
     "text": [
      "patientID (24256,)\n",
      "num_procedures (7,)\n",
      "num_medications (70,)\n",
      "num_diagnoses (15,)\n",
      "max_glu_serum (4,)\n",
      "A1Cresult (4,)\n",
      "metformin (4,)\n",
      "repaglinide (4,)\n",
      "nateglinide (4,)\n",
      "chlorpropamide (4,)\n",
      "glimepiride (4,)\n",
      "acetohexamide (1,)\n",
      "glipizide (4,)\n",
      "glyburide (4,)\n",
      "tolbutamide (2,)\n",
      "pioglitazone (4,)\n",
      "rosiglitazone (4,)\n",
      "acarbose (3,)\n",
      "miglitol (2,)\n",
      "troglitazone (2,)\n",
      "tolazamide (2,)\n",
      "insulin (4,)\n",
      "glyburide.metformin (3,)\n",
      "glipizide.metformin (2,)\n",
      "metformin.rosiglitazone (1,)\n",
      "metformin.pioglitazone (2,)\n",
      "change (2,)\n",
      "diabetesMed (2,)\n",
      "istrain (2,)\n"
     ]
    }
   ],
   "source": [
    "for col in diagnosis_data.columns.values:\n",
    "    print(col, diagnosis_data[col].unique().shape)"
   ]
  },
  {
   "cell_type": "markdown",
   "metadata": {},
   "source": [
    "__Removing columns with only one unique value__"
   ]
  },
  {
   "cell_type": "code",
   "execution_count": 187,
   "metadata": {},
   "outputs": [
    {
     "data": {
      "text/plain": [
       "(31513, 27)"
      ]
     },
     "execution_count": 187,
     "metadata": {},
     "output_type": "execute_result"
    }
   ],
   "source": [
    "diagnosis_data = diagnosis_data.drop(columns=['acetohexamide', 'metformin.rosiglitazone'])\n",
    "diagnosis_data.shape"
   ]
  },
  {
   "cell_type": "code",
   "execution_count": 188,
   "metadata": {},
   "outputs": [
    {
     "data": {
      "text/plain": [
       "array([11,  6, 27, 10, 12,  7, 16,  5, 15, 26, 13,  4, 20, 25, 19,  9, 24,\n",
       "       21, 14, 22, 17,  3, 43,  8, 18, 31, 23, 28, 35,  2, 60, 46, 30, 33,\n",
       "       34, 38, 29, 48, 37, 39, 32, 41, 55,  1, 42, 51, 53, 45, 40, 36, 47,\n",
       "       44, 58, 49, 56, 63, 50, 52, 59, 64, 57, 54, 68, 72, 62, 65, 61, 81,\n",
       "       70, 67], dtype=int64)"
      ]
     },
     "execution_count": 188,
     "metadata": {},
     "output_type": "execute_result"
    }
   ],
   "source": [
    "diagnosis_data['num_medications'].unique()"
   ]
  },
  {
   "cell_type": "code",
   "execution_count": 189,
   "metadata": {},
   "outputs": [
    {
     "data": {
      "text/plain": [
       "81"
      ]
     },
     "execution_count": 189,
     "metadata": {},
     "output_type": "execute_result"
    }
   ],
   "source": [
    "diagnosis_data['num_medications'].max()"
   ]
  },
  {
   "cell_type": "code",
   "execution_count": 190,
   "metadata": {},
   "outputs": [],
   "source": [
    "diagnosis_data['num_medications'] = pd.cut(diagnosis_data['num_medications'], bins=8, labels=[0, 1, 2, 3, 4, 5, 6, 7])"
   ]
  },
  {
   "cell_type": "markdown",
   "metadata": {},
   "source": [
    "__Separating Test data__"
   ]
  },
  {
   "cell_type": "code",
   "execution_count": 191,
   "metadata": {},
   "outputs": [
    {
     "data": {
      "text/plain": [
       "(7257, 6)"
      ]
     },
     "execution_count": 191,
     "metadata": {},
     "output_type": "execute_result"
    }
   ],
   "source": [
    "patient_test_data = patient_data[patient_data['istrain'] == 0]\n",
    "patient_test_data.shape"
   ]
  },
  {
   "cell_type": "code",
   "execution_count": 192,
   "metadata": {},
   "outputs": [
    {
     "data": {
      "text/plain": [
       "(24256, 6)"
      ]
     },
     "execution_count": 192,
     "metadata": {},
     "output_type": "execute_result"
    }
   ],
   "source": [
    "patient_data = patient_data[patient_data['istrain'] == 1]\n",
    "patient_data.shape"
   ]
  },
  {
   "cell_type": "code",
   "execution_count": 193,
   "metadata": {},
   "outputs": [
    {
     "name": "stdout",
     "output_type": "stream",
     "text": [
      "(7257, 7)\n",
      "(24256, 7)\n",
      "(7257, 27)\n",
      "(24256, 27)\n"
     ]
    }
   ],
   "source": [
    "hospital_test_data = hospital_data[hospital_data['istrain'] == 0]\n",
    "print(hospital_test_data.shape)\n",
    "hospital_data = hospital_data[hospital_data['istrain'] == 1]\n",
    "print(hospital_data.shape)\n",
    "diagnosis_test_data = diagnosis_data[diagnosis_data['istrain'] == 0]\n",
    "print(diagnosis_test_data.shape)\n",
    "diagnosis_data = diagnosis_data[diagnosis_data['istrain'] == 1]\n",
    "print(diagnosis_data.shape)"
   ]
  },
  {
   "cell_type": "code",
   "execution_count": 194,
   "metadata": {},
   "outputs": [
    {
     "data": {
      "text/plain": [
       "(7257, 38)"
      ]
     },
     "execution_count": 194,
     "metadata": {},
     "output_type": "execute_result"
    }
   ],
   "source": [
    "test_data = patient_test_data.merge(hospital_test_data.merge(diagnosis_test_data, on='patientID'), on='patientID')\n",
    "test_data.shape"
   ]
  },
  {
   "cell_type": "code",
   "execution_count": 195,
   "metadata": {},
   "outputs": [
    {
     "data": {
      "text/plain": [
       "(24256, 38)"
      ]
     },
     "execution_count": 195,
     "metadata": {},
     "output_type": "execute_result"
    }
   ],
   "source": [
    "data = patient_data.merge(hospital_data.merge(diagnosis_data, on='patientID'), on='patientID')\n",
    "data.shape"
   ]
  },
  {
   "cell_type": "markdown",
   "metadata": {},
   "source": [
    "__removing useless columns__"
   ]
  },
  {
   "cell_type": "code",
   "execution_count": 196,
   "metadata": {},
   "outputs": [
    {
     "data": {
      "text/plain": [
       "(24256, 35)"
      ]
     },
     "execution_count": 196,
     "metadata": {},
     "output_type": "execute_result"
    }
   ],
   "source": [
    "data = data.drop(columns=['istrain'])\n",
    "if 'istrain_x' in data:\n",
    "    data = data.drop(columns=['istrain_x'])\n",
    "if 'istrain_y' in data:\n",
    "    data = data.drop(columns=['istrain_y'])\n",
    "data.shape"
   ]
  },
  {
   "cell_type": "code",
   "execution_count": 197,
   "metadata": {},
   "outputs": [
    {
     "data": {
      "text/plain": [
       "<matplotlib.axes._subplots.AxesSubplot at 0x1b8de84ae10>"
      ]
     },
     "execution_count": 197,
     "metadata": {},
     "output_type": "execute_result"
    },
    {
     "data": {
      "image/png": "[encoded data removed]",
      "text/plain": [
       "<Figure size 432x288 with 1 Axes>"
      ]
     },
     "metadata": {
      "needs_background": "light"
     },
     "output_type": "display_data"
    }
   ],
   "source": [
    "sns.countplot(data.loc[data['Target'] == 'Yes', 'admission_source_id'])"
   ]
  },
  {
   "cell_type": "code",
   "execution_count": 198,
   "metadata": {},
   "outputs": [
    {
     "data": {
      "text/plain": [
       "<matplotlib.axes._subplots.AxesSubplot at 0x1b8ddbd2a20>"
      ]
     },
     "execution_count": 198,
     "metadata": {},
     "output_type": "execute_result"
    },
    {
     "data": {
      "image/png": "[encoded data removed]",
      "text/plain": [
       "<Figure size 432x288 with 1 Axes>"
      ]
     },
     "metadata": {
      "needs_background": "light"
     },
     "output_type": "display_data"
    }
   ],
   "source": [
    "sns.countplot(data.loc[data['Target'] == 'No', 'admission_source_id'])"
   ]
  },
  {
   "cell_type": "code",
   "execution_count": 199,
   "metadata": {},
   "outputs": [
    {
     "data": {
      "text/plain": [
       "(0, 35)"
      ]
     },
     "execution_count": 199,
     "metadata": {},
     "output_type": "execute_result"
    }
   ],
   "source": [
    "data.loc[(data['Target'] == 1) & (data['admission_source_id'] > 20)].shape"
   ]
  },
  {
   "cell_type": "markdown",
   "metadata": {},
   "source": [
    "__for values between 10 - 17 and values greater than 20 target is always 0__"
   ]
  },
  {
   "cell_type": "code",
   "execution_count": 200,
   "metadata": {},
   "outputs": [
    {
     "data": {
      "text/plain": [
       "<matplotlib.axes._subplots.AxesSubplot at 0x1b8de811160>"
      ]
     },
     "execution_count": 200,
     "metadata": {},
     "output_type": "execute_result"
    },
    {
     "data": {
      "image/png": "[encoded data removed]",
      "text/plain": [
       "<Figure size 432x288 with 1 Axes>"
      ]
     },
     "metadata": {
      "needs_background": "light"
     },
     "output_type": "display_data"
    }
   ],
   "source": [
    "sns.countplot(data.loc[data['Target'] == 'Yes', 'admission_type_id'])"
   ]
  },
  {
   "cell_type": "code",
   "execution_count": 201,
   "metadata": {},
   "outputs": [
    {
     "data": {
      "text/plain": [
       "<matplotlib.axes._subplots.AxesSubplot at 0x1b8ddc8dcc0>"
      ]
     },
     "execution_count": 201,
     "metadata": {},
     "output_type": "execute_result"
    },
    {
     "data": {
      "image/png": "[encoded data removed]",
      "text/plain": [
       "<Figure size 432x288 with 1 Axes>"
      ]
     },
     "metadata": {
      "needs_background": "light"
     },
     "output_type": "display_data"
    }
   ],
   "source": [
    "sns.countplot(data.loc[data['Target'] == 'No', 'admission_type_id'])"
   ]
  },
  {
   "cell_type": "markdown",
   "metadata": {},
   "source": [
    "# Label Encoding"
   ]
  },
  {
   "cell_type": "code",
   "execution_count": 202,
   "metadata": {},
   "outputs": [],
   "source": [
    "from sklearn.preprocessing import LabelEncoder"
   ]
  },
  {
   "cell_type": "markdown",
   "metadata": {},
   "source": [
    "__No use for patientID and AdmissionID in the data, removing those__"
   ]
  },
  {
   "cell_type": "code",
   "execution_count": 203,
   "metadata": {},
   "outputs": [
    {
     "data": {
      "text/plain": [
       "(24256, 33)"
      ]
     },
     "execution_count": 203,
     "metadata": {},
     "output_type": "execute_result"
    }
   ],
   "source": [
    "data = data.drop(columns=['patientID', 'AdmissionID'])\n",
    "data.shape"
   ]
  },
  {
   "cell_type": "code",
   "execution_count": 204,
   "metadata": {},
   "outputs": [
    {
     "name": "stdout",
     "output_type": "stream",
     "text": [
      "race (5,)\n",
      "gender (2,)\n",
      "age (10,)\n",
      "Target (2,)\n",
      "max_glu_serum (4,)\n",
      "A1Cresult (4,)\n",
      "metformin (4,)\n",
      "repaglinide (4,)\n",
      "nateglinide (4,)\n",
      "chlorpropamide (4,)\n",
      "glimepiride (4,)\n",
      "glipizide (4,)\n",
      "glyburide (4,)\n",
      "tolbutamide (2,)\n",
      "pioglitazone (4,)\n",
      "rosiglitazone (4,)\n",
      "acarbose (3,)\n",
      "miglitol (2,)\n",
      "troglitazone (2,)\n",
      "tolazamide (2,)\n",
      "insulin (4,)\n",
      "glyburide.metformin (3,)\n",
      "glipizide.metformin (2,)\n",
      "metformin.pioglitazone (2,)\n",
      "change (2,)\n",
      "diabetesMed (2,)\n"
     ]
    }
   ],
   "source": [
    "for col in data.columns.values:\n",
    "    if data[col].dtype == 'object':\n",
    "        print(col, data[col].unique().shape)"
   ]
  },
  {
   "cell_type": "markdown",
   "metadata": {},
   "source": [
    "__Ordinal columns from above columns:__\n",
    "race, gender, age, medical_specialty and all the meds from diagnosis table"
   ]
  },
  {
   "cell_type": "code",
   "execution_count": 205,
   "metadata": {},
   "outputs": [
    {
     "name": "stdout",
     "output_type": "stream",
     "text": [
      "Admission_date (30,)\n",
      "Discharge_date (31,)\n",
      "admission_type_id (8,)\n",
      "admission_source_id (16,)\n",
      "num_procedures (7,)\n",
      "num_medications (8,)\n",
      "num_diagnoses (15,)\n"
     ]
    }
   ],
   "source": [
    "for col in data.columns.values:\n",
    "    if data[col].dtype != 'object':\n",
    "        print(col, data[col].unique().shape)"
   ]
  },
  {
   "cell_type": "code",
   "execution_count": 206,
   "metadata": {},
   "outputs": [],
   "source": [
    "le = LabelEncoder()\n",
    "ordinal_cols = ['race', 'gender', 'age', 'Target', 'max_glu_serum', 'A1Cresult', 'metformin', 'repaglinide', 'nateglinide', 'chlorpropamide', 'glimepiride', 'glipizide', 'glyburide', 'tolbutamide', 'pioglitazone', 'rosiglitazone', 'acarbose', 'miglitol', 'troglitazone', 'tolazamide', 'insulin', 'glyburide.metformin', 'glipizide.metformin', 'metformin.pioglitazone', 'change', 'diabetesMed']\n",
    "for col in ordinal_cols:\n",
    "    data[col] = le.fit_transform(data[col].astype(str))"
   ]
  },
  {
   "cell_type": "markdown",
   "metadata": {},
   "source": [
    "# Base Model"
   ]
  },
  {
   "cell_type": "code",
   "execution_count": 207,
   "metadata": {},
   "outputs": [],
   "source": [
    "X = data[data.columns.difference(['Target'])]\n",
    "y = data['Target']"
   ]
  },
  {
   "cell_type": "code",
   "execution_count": 208,
   "metadata": {},
   "outputs": [
    {
     "data": {
      "text/html": [
       "<div>\n",
       "<style scoped>\n",
       "    .dataframe tbody tr th:only-of-type {\n",
       "        vertical-align: middle;\n",
       "    }\n",
       "\n",
       "    .dataframe tbody tr th {\n",
       "        vertical-align: top;\n",
       "    }\n",
       "\n",
       "    .dataframe thead th {\n",
       "        text-align: right;\n",
       "    }\n",
       "</style>\n",
       "<table border=\"1\" class=\"dataframe\">\n",
       "  <thead>\n",
       "    <tr style=\"text-align: right;\">\n",
       "      <th></th>\n",
       "      <th>A1Cresult</th>\n",
       "      <th>Admission_date</th>\n",
       "      <th>Discharge_date</th>\n",
       "      <th>acarbose</th>\n",
       "      <th>admission_source_id</th>\n",
       "      <th>admission_type_id</th>\n",
       "      <th>age</th>\n",
       "      <th>change</th>\n",
       "      <th>chlorpropamide</th>\n",
       "      <th>diabetesMed</th>\n",
       "      <th>...</th>\n",
       "      <th>num_diagnoses</th>\n",
       "      <th>num_medications</th>\n",
       "      <th>num_procedures</th>\n",
       "      <th>pioglitazone</th>\n",
       "      <th>race</th>\n",
       "      <th>repaglinide</th>\n",
       "      <th>rosiglitazone</th>\n",
       "      <th>tolazamide</th>\n",
       "      <th>tolbutamide</th>\n",
       "      <th>troglitazone</th>\n",
       "    </tr>\n",
       "  </thead>\n",
       "  <tbody>\n",
       "    <tr>\n",
       "      <th>0</th>\n",
       "      <td>2</td>\n",
       "      <td>201505</td>\n",
       "      <td>201505</td>\n",
       "      <td>0</td>\n",
       "      <td>1</td>\n",
       "      <td>1</td>\n",
       "      <td>9</td>\n",
       "      <td>0</td>\n",
       "      <td>1</td>\n",
       "      <td>1</td>\n",
       "      <td>...</td>\n",
       "      <td>9</td>\n",
       "      <td>0</td>\n",
       "      <td>0</td>\n",
       "      <td>1</td>\n",
       "      <td>2</td>\n",
       "      <td>1</td>\n",
       "      <td>2</td>\n",
       "      <td>0</td>\n",
       "      <td>0</td>\n",
       "      <td>0</td>\n",
       "    </tr>\n",
       "    <tr>\n",
       "      <th>1</th>\n",
       "      <td>2</td>\n",
       "      <td>201402</td>\n",
       "      <td>201402</td>\n",
       "      <td>0</td>\n",
       "      <td>7</td>\n",
       "      <td>1</td>\n",
       "      <td>5</td>\n",
       "      <td>1</td>\n",
       "      <td>1</td>\n",
       "      <td>0</td>\n",
       "      <td>...</td>\n",
       "      <td>6</td>\n",
       "      <td>0</td>\n",
       "      <td>1</td>\n",
       "      <td>1</td>\n",
       "      <td>0</td>\n",
       "      <td>1</td>\n",
       "      <td>1</td>\n",
       "      <td>0</td>\n",
       "      <td>0</td>\n",
       "      <td>0</td>\n",
       "    </tr>\n",
       "    <tr>\n",
       "      <th>2</th>\n",
       "      <td>2</td>\n",
       "      <td>201506</td>\n",
       "      <td>201506</td>\n",
       "      <td>0</td>\n",
       "      <td>7</td>\n",
       "      <td>1</td>\n",
       "      <td>8</td>\n",
       "      <td>1</td>\n",
       "      <td>1</td>\n",
       "      <td>0</td>\n",
       "      <td>...</td>\n",
       "      <td>9</td>\n",
       "      <td>2</td>\n",
       "      <td>2</td>\n",
       "      <td>1</td>\n",
       "      <td>2</td>\n",
       "      <td>1</td>\n",
       "      <td>1</td>\n",
       "      <td>0</td>\n",
       "      <td>0</td>\n",
       "      <td>0</td>\n",
       "    </tr>\n",
       "    <tr>\n",
       "      <th>3</th>\n",
       "      <td>2</td>\n",
       "      <td>201512</td>\n",
       "      <td>201512</td>\n",
       "      <td>0</td>\n",
       "      <td>1</td>\n",
       "      <td>2</td>\n",
       "      <td>5</td>\n",
       "      <td>1</td>\n",
       "      <td>1</td>\n",
       "      <td>1</td>\n",
       "      <td>...</td>\n",
       "      <td>5</td>\n",
       "      <td>0</td>\n",
       "      <td>3</td>\n",
       "      <td>1</td>\n",
       "      <td>2</td>\n",
       "      <td>1</td>\n",
       "      <td>1</td>\n",
       "      <td>0</td>\n",
       "      <td>0</td>\n",
       "      <td>0</td>\n",
       "    </tr>\n",
       "    <tr>\n",
       "      <th>4</th>\n",
       "      <td>2</td>\n",
       "      <td>201508</td>\n",
       "      <td>201508</td>\n",
       "      <td>0</td>\n",
       "      <td>1</td>\n",
       "      <td>3</td>\n",
       "      <td>6</td>\n",
       "      <td>1</td>\n",
       "      <td>1</td>\n",
       "      <td>0</td>\n",
       "      <td>...</td>\n",
       "      <td>9</td>\n",
       "      <td>1</td>\n",
       "      <td>6</td>\n",
       "      <td>1</td>\n",
       "      <td>2</td>\n",
       "      <td>1</td>\n",
       "      <td>1</td>\n",
       "      <td>0</td>\n",
       "      <td>0</td>\n",
       "      <td>0</td>\n",
       "    </tr>\n",
       "  </tbody>\n",
       "</table>\n",
       "<p>5 rows × 32 columns</p>\n",
       "</div>"
      ],
      "text/plain": [
       "   A1Cresult  Admission_date  Discharge_date  acarbose  admission_source_id  \\\n",
       "0          2          201505          201505         0                    1   \n",
       "1          2          201402          201402         0                    7   \n",
       "2          2          201506          201506         0                    7   \n",
       "3          2          201512          201512         0                    1   \n",
       "4          2          201508          201508         0                    1   \n",
       "\n",
       "   admission_type_id  age  change  chlorpropamide  diabetesMed  ...  \\\n",
       "0                  1    9       0               1            1  ...   \n",
       "1                  1    5       1               1            0  ...   \n",
       "2                  1    8       1               1            0  ...   \n",
       "3                  2    5       1               1            1  ...   \n",
       "4                  3    6       1               1            0  ...   \n",
       "\n",
       "   num_diagnoses  num_medications  num_procedures  pioglitazone  race  \\\n",
       "0              9                0               0             1     2   \n",
       "1              6                0               1             1     0   \n",
       "2              9                2               2             1     2   \n",
       "3              5                0               3             1     2   \n",
       "4              9                1               6             1     2   \n",
       "\n",
       "   repaglinide  rosiglitazone  tolazamide  tolbutamide  troglitazone  \n",
       "0            1              2           0            0             0  \n",
       "1            1              1           0            0             0  \n",
       "2            1              1           0            0             0  \n",
       "3            1              1           0            0             0  \n",
       "4            1              1           0            0             0  \n",
       "\n",
       "[5 rows x 32 columns]"
      ]
     },
     "execution_count": 208,
     "metadata": {},
     "output_type": "execute_result"
    }
   ],
   "source": [
    "X.head()"
   ]
  },
  {
   "cell_type": "code",
   "execution_count": 209,
   "metadata": {},
   "outputs": [
    {
     "name": "stderr",
     "output_type": "stream",
     "text": [
      "C:\\Users\\santhosh.kapuluru\\AppData\\Local\\Continuum\\anaconda3\\lib\\site-packages\\sklearn\\ensemble\\forest.py:246: FutureWarning: The default value of n_estimators will change from 10 in version 0.20 to 100 in 0.22.\n",
      "  \"10 in version 0.20 to 100 in 0.22.\", FutureWarning)\n",
      "C:\\Users\\santhosh.kapuluru\\AppData\\Local\\Continuum\\anaconda3\\lib\\site-packages\\sklearn\\ensemble\\forest.py:246: FutureWarning: The default value of n_estimators will change from 10 in version 0.20 to 100 in 0.22.\n",
      "  \"10 in version 0.20 to 100 in 0.22.\", FutureWarning)\n",
      "C:\\Users\\santhosh.kapuluru\\AppData\\Local\\Continuum\\anaconda3\\lib\\site-packages\\sklearn\\ensemble\\forest.py:246: FutureWarning: The default value of n_estimators will change from 10 in version 0.20 to 100 in 0.22.\n",
      "  \"10 in version 0.20 to 100 in 0.22.\", FutureWarning)\n",
      "C:\\Users\\santhosh.kapuluru\\AppData\\Local\\Continuum\\anaconda3\\lib\\site-packages\\sklearn\\ensemble\\forest.py:246: FutureWarning: The default value of n_estimators will change from 10 in version 0.20 to 100 in 0.22.\n",
      "  \"10 in version 0.20 to 100 in 0.22.\", FutureWarning)\n",
      "C:\\Users\\santhosh.kapuluru\\AppData\\Local\\Continuum\\anaconda3\\lib\\site-packages\\sklearn\\ensemble\\forest.py:246: FutureWarning: The default value of n_estimators will change from 10 in version 0.20 to 100 in 0.22.\n",
      "  \"10 in version 0.20 to 100 in 0.22.\", FutureWarning)\n"
     ]
    },
    {
     "name": "stdout",
     "output_type": "stream",
     "text": [
      "[0.69682605 0.70356627 0.70253556 0.70377242 0.69882498]\n"
     ]
    },
    {
     "data": {
      "text/plain": [
       "0.7011050576767218"
      ]
     },
     "execution_count": 209,
     "metadata": {},
     "output_type": "execute_result"
    }
   ],
   "source": [
    "from sklearn.ensemble import RandomForestClassifier\n",
    "from sklearn.model_selection import cross_val_score\n",
    "\n",
    "rfc = RandomForestClassifier()\n",
    "scores = cross_val_score(rfc, X, y, scoring='accuracy', cv=5)\n",
    "print(scores)\n",
    "scores.mean()"
   ]
  },
  {
   "cell_type": "code",
   "execution_count": 210,
   "metadata": {},
   "outputs": [
    {
     "data": {
      "text/plain": [
       "0    17786\n",
       "1     6470\n",
       "Name: Target, dtype: int64"
      ]
     },
     "execution_count": 210,
     "metadata": {},
     "output_type": "execute_result"
    }
   ],
   "source": [
    "y.value_counts()"
   ]
  },
  {
   "cell_type": "code",
   "execution_count": 211,
   "metadata": {},
   "outputs": [
    {
     "data": {
      "text/plain": [
       "0.7332618733509235"
      ]
     },
     "execution_count": 211,
     "metadata": {},
     "output_type": "execute_result"
    }
   ],
   "source": [
    "null_accuracy = 17786/(17786 + 6470)\n",
    "null_accuracy"
   ]
  },
  {
   "cell_type": "code",
   "execution_count": 212,
   "metadata": {},
   "outputs": [],
   "source": [
    "def isGoodModel(scores):\n",
    "    print(scores)\n",
    "    print(scores.mean(), scores.mean() > null_accuracy)"
   ]
  },
  {
   "cell_type": "code",
   "execution_count": 213,
   "metadata": {},
   "outputs": [
    {
     "data": {
      "text/plain": [
       "array(['A1Cresult', 'Admission_date', 'Discharge_date', 'acarbose',\n",
       "       'admission_source_id', 'admission_type_id', 'age', 'change',\n",
       "       'chlorpropamide', 'diabetesMed', 'gender', 'glimepiride',\n",
       "       'glipizide', 'glipizide.metformin', 'glyburide',\n",
       "       'glyburide.metformin', 'insulin', 'max_glu_serum', 'metformin',\n",
       "       'metformin.pioglitazone', 'miglitol', 'nateglinide',\n",
       "       'num_diagnoses', 'num_medications', 'num_procedures',\n",
       "       'pioglitazone', 'race', 'repaglinide', 'rosiglitazone',\n",
       "       'tolazamide', 'tolbutamide', 'troglitazone'], dtype=object)"
      ]
     },
     "execution_count": 213,
     "metadata": {},
     "output_type": "execute_result"
    }
   ],
   "source": [
    "X.columns.values"
   ]
  },
  {
   "cell_type": "markdown",
   "metadata": {},
   "source": [
    "__Trying logistic regression__"
   ]
  },
  {
   "cell_type": "code",
   "execution_count": 214,
   "metadata": {},
   "outputs": [
    {
     "name": "stderr",
     "output_type": "stream",
     "text": [
      "C:\\Users\\santhosh.kapuluru\\AppData\\Local\\Continuum\\anaconda3\\lib\\site-packages\\sklearn\\linear_model\\logistic.py:433: FutureWarning: Default solver will be changed to 'lbfgs' in 0.22. Specify a solver to silence this warning.\n",
      "  FutureWarning)\n",
      "C:\\Users\\santhosh.kapuluru\\AppData\\Local\\Continuum\\anaconda3\\lib\\site-packages\\sklearn\\linear_model\\logistic.py:433: FutureWarning: Default solver will be changed to 'lbfgs' in 0.22. Specify a solver to silence this warning.\n",
      "  FutureWarning)\n",
      "C:\\Users\\santhosh.kapuluru\\AppData\\Local\\Continuum\\anaconda3\\lib\\site-packages\\sklearn\\linear_model\\logistic.py:433: FutureWarning: Default solver will be changed to 'lbfgs' in 0.22. Specify a solver to silence this warning.\n",
      "  FutureWarning)\n",
      "C:\\Users\\santhosh.kapuluru\\AppData\\Local\\Continuum\\anaconda3\\lib\\site-packages\\sklearn\\linear_model\\logistic.py:433: FutureWarning: Default solver will be changed to 'lbfgs' in 0.22. Specify a solver to silence this warning.\n",
      "  FutureWarning)\n",
      "C:\\Users\\santhosh.kapuluru\\AppData\\Local\\Continuum\\anaconda3\\lib\\site-packages\\sklearn\\linear_model\\logistic.py:433: FutureWarning: Default solver will be changed to 'lbfgs' in 0.22. Specify a solver to silence this warning.\n",
      "  FutureWarning)\n"
     ]
    },
    {
     "name": "stdout",
     "output_type": "stream",
     "text": [
      "[0.73330585 0.73325088 0.73325088 0.73325088 0.73325088]\n",
      "0.7332618715376931 False\n"
     ]
    }
   ],
   "source": [
    "from sklearn.linear_model import LogisticRegression\n",
    "\n",
    "lr = LogisticRegression()\n",
    "scores = cross_val_score(lr, X, y, scoring='accuracy', cv=5)\n",
    "isGoodModel(scores)"
   ]
  },
  {
   "cell_type": "markdown",
   "metadata": {},
   "source": [
    "__choosing logistic regression for base model__"
   ]
  },
  {
   "cell_type": "markdown",
   "metadata": {},
   "source": [
    "# Feature Engineering and Feature Selection"
   ]
  },
  {
   "cell_type": "code",
   "execution_count": 215,
   "metadata": {},
   "outputs": [
    {
     "name": "stdout",
     "output_type": "stream",
     "text": [
      "race Yes\n",
      " 2    4891\n",
      "0    1114\n",
      "3     327\n",
      "4      99\n",
      "1      39\n",
      "Name: race, dtype: int64\n",
      "race No\n",
      " 2    13063\n",
      "0     3267\n",
      "3      991\n",
      "4      330\n",
      "1      135\n",
      "Name: race, dtype: int64\n",
      "gender Yes\n",
      " 0    3423\n",
      "1    3047\n",
      "Name: gender, dtype: int64\n",
      "gender No\n",
      " 0    9304\n",
      "1    8482\n",
      "Name: gender, dtype: int64\n",
      "age Yes\n",
      " 7    1695\n",
      "6    1494\n",
      "8    1075\n",
      "5    1022\n",
      "4     604\n",
      "3     223\n",
      "9     199\n",
      "2     103\n",
      "1      42\n",
      "0      13\n",
      "Name: age, dtype: int64\n",
      "age No\n",
      " 7    4297\n",
      "6    3872\n",
      "5    3254\n",
      "8    2710\n",
      "4    1807\n",
      "3     805\n",
      "9     517\n",
      "2     319\n",
      "1     154\n",
      "0      51\n",
      "Name: age, dtype: int64\n",
      "Target Yes\n",
      " 1    6470\n",
      "Name: Target, dtype: int64\n",
      "Target No\n",
      " 0    17786\n",
      "Name: Target, dtype: int64\n",
      "Admission_date Yes\n",
      " 201603    238\n",
      "201601    235\n",
      "201503    235\n",
      "201412    235\n",
      "201405    232\n",
      "201511    229\n",
      "201411    227\n",
      "201505    226\n",
      "201501    226\n",
      "201410    224\n",
      "201510    222\n",
      "201507    222\n",
      "201504    221\n",
      "201605    220\n",
      "201606    219\n",
      "201401    212\n",
      "201602    211\n",
      "201508    210\n",
      "201604    209\n",
      "201402    209\n",
      "201407    208\n",
      "201403    208\n",
      "201409    207\n",
      "201502    207\n",
      "201512    202\n",
      "201506    202\n",
      "201509    202\n",
      "201408    198\n",
      "201404    194\n",
      "201406    180\n",
      "Name: Admission_date, dtype: int64\n",
      "Admission_date No\n",
      " 201503    646\n",
      "201409    630\n",
      "201506    626\n",
      "201404    621\n",
      "201505    621\n",
      "201601    621\n",
      "201411    618\n",
      "201408    618\n",
      "201510    610\n",
      "201605    607\n",
      "201501    606\n",
      "201407    603\n",
      "201403    603\n",
      "201401    594\n",
      "201504    593\n",
      "201502    593\n",
      "201406    592\n",
      "201603    587\n",
      "201604    587\n",
      "201410    585\n",
      "201508    585\n",
      "201507    583\n",
      "201412    579\n",
      "201405    570\n",
      "201606    564\n",
      "201511    564\n",
      "201509    559\n",
      "201512    556\n",
      "201402    537\n",
      "201602    528\n",
      "Name: Admission_date, dtype: int64\n",
      "Discharge_date Yes\n",
      " 201412    243\n",
      "201601    240\n",
      "201503    240\n",
      "201603    234\n",
      "201405    230\n",
      "201410    229\n",
      "201606    229\n",
      "201501    228\n",
      "201504    224\n",
      "201511    223\n",
      "201411    222\n",
      "201605    221\n",
      "201510    221\n",
      "201505    220\n",
      "201508    218\n",
      "201507    215\n",
      "201403    213\n",
      "201402    211\n",
      "201604    209\n",
      "201602    209\n",
      "201502    208\n",
      "201407    204\n",
      "201408    203\n",
      "201512    203\n",
      "201506    201\n",
      "201409    198\n",
      "201509    197\n",
      "201404    190\n",
      "201406    183\n",
      "201401    178\n",
      "201607     26\n",
      "Name: Discharge_date, dtype: int64\n",
      "Discharge_date No\n",
      " 201505    660\n",
      "201409    646\n",
      "201503    644\n",
      "201601    621\n",
      "201404    618\n",
      "201411    616\n",
      "201506    614\n",
      "201501    603\n",
      "201510    602\n",
      "201408    602\n",
      "201407    598\n",
      "201406    598\n",
      "201604    597\n",
      "201507    594\n",
      "201412    588\n",
      "201508    586\n",
      "201403    585\n",
      "201410    585\n",
      "201502    583\n",
      "201603    581\n",
      "201605    580\n",
      "201405    579\n",
      "201511    578\n",
      "201606    571\n",
      "201504    567\n",
      "201509    556\n",
      "201512    551\n",
      "201402    548\n",
      "201602    531\n",
      "201401    517\n",
      "201607     87\n",
      "Name: Discharge_date, dtype: int64\n",
      "admission_type_id Yes\n",
      " 1    3253\n",
      "3    1320\n",
      "2    1193\n",
      "6     388\n",
      "5     285\n",
      "8      29\n",
      "7       1\n",
      "4       1\n",
      "Name: admission_type_id, dtype: int64\n",
      "admission_type_id No\n",
      " 1    8982\n",
      "3    3678\n",
      "2    3270\n",
      "6     950\n",
      "5     806\n",
      "8      88\n",
      "7      10\n",
      "4       2\n",
      "Name: admission_type_id, dtype: int64\n",
      "admission_source_id Yes\n",
      " 7     3325\n",
      "1     2083\n",
      "17     423\n",
      "4      261\n",
      "6      180\n",
      "2       90\n",
      "5       58\n",
      "20      23\n",
      "3       13\n",
      "9       11\n",
      "8        2\n",
      "10       1\n",
      "Name: admission_source_id, dtype: int64\n",
      "admission_source_id No\n",
      " 7     9159\n",
      "1     5627\n",
      "17    1144\n",
      "4      773\n",
      "6      588\n",
      "2      255\n",
      "5      141\n",
      "9       36\n",
      "3       33\n",
      "20      22\n",
      "10       2\n",
      "22       2\n",
      "14       1\n",
      "13       1\n",
      "25       1\n",
      "8        1\n",
      "Name: admission_source_id, dtype: int64\n",
      "num_procedures Yes\n",
      " 0    2769\n",
      "1    1350\n",
      "2     829\n",
      "3     674\n",
      "6     352\n",
      "4     288\n",
      "5     208\n",
      "Name: num_procedures, dtype: int64\n",
      "num_procedures No\n",
      " 0    7664\n",
      "1    3614\n",
      "2    2328\n",
      "3    1779\n",
      "6     995\n",
      "4     780\n",
      "5     626\n",
      "Name: num_procedures, dtype: int64\n",
      "num_medications Yes\n",
      " 1    3055\n",
      "0    2056\n",
      "2    1018\n",
      "3     248\n",
      "4      60\n",
      "5      26\n",
      "6       5\n",
      "7       2\n",
      "Name: num_medications, dtype: int64\n",
      "num_medications No\n",
      " 1    8025\n",
      "0    6466\n",
      "2    2490\n",
      "3     526\n",
      "4     197\n",
      "5      69\n",
      "6      12\n",
      "7       1\n",
      "Name: num_medications, dtype: int64\n",
      "num_diagnoses Yes\n",
      " 9     2932\n",
      "5      832\n",
      "8      749\n",
      "6      693\n",
      "7      621\n",
      "4      369\n",
      "3      178\n",
      "2       67\n",
      "1       19\n",
      "16       4\n",
      "14       2\n",
      "13       2\n",
      "10       1\n",
      "12       1\n",
      "Name: num_diagnoses, dtype: int64\n",
      "num_diagnoses No\n",
      " 9     7305\n",
      "5     2588\n",
      "6     1963\n",
      "7     1893\n",
      "8     1722\n",
      "4     1257\n",
      "3      719\n",
      "2      258\n",
      "1       63\n",
      "16       8\n",
      "12       3\n",
      "10       3\n",
      "15       2\n",
      "13       2\n",
      "Name: num_diagnoses, dtype: int64\n",
      "max_glu_serum Yes\n",
      " 2    6159\n",
      "3     163\n",
      "0      80\n",
      "1      68\n",
      "Name: max_glu_serum, dtype: int64\n",
      "max_glu_serum No\n",
      " 2    16988\n",
      "3      429\n",
      "0      221\n",
      "1      148\n",
      "Name: max_glu_serum, dtype: int64\n",
      "A1Cresult Yes\n",
      " 2    5309\n",
      "1     552\n",
      "3     346\n",
      "0     263\n",
      "Name: A1Cresult, dtype: int64\n",
      "A1Cresult No\n",
      " 2    14456\n",
      "1     1549\n",
      "3     1041\n",
      "0      740\n",
      "Name: A1Cresult, dtype: int64\n",
      "metformin Yes\n",
      " 1    5142\n",
      "2    1196\n",
      "3      87\n",
      "0      45\n",
      "Name: metformin, dtype: int64\n",
      "metformin No\n",
      " 1    13952\n",
      "2     3513\n",
      "3      219\n",
      "0      102\n",
      "Name: metformin, dtype: int64\n",
      "repaglinide Yes\n",
      " 1    6378\n",
      "2      83\n",
      "3       7\n",
      "0       2\n",
      "Name: repaglinide, dtype: int64\n",
      "repaglinide No\n",
      " 1    17584\n",
      "2      179\n",
      "3       17\n",
      "0        6\n",
      "Name: repaglinide, dtype: int64\n",
      "nateglinide Yes\n",
      " 1    6431\n",
      "2      39\n",
      "Name: nateglinide, dtype: int64\n",
      "nateglinide No\n",
      " 1    17669\n",
      "2      111\n",
      "3        4\n",
      "0        2\n",
      "Name: nateglinide, dtype: int64\n",
      "chlorpropamide Yes\n",
      " 1    6466\n",
      "2       4\n",
      "Name: chlorpropamide, dtype: int64\n",
      "chlorpropamide No\n",
      " 1    17767\n",
      "2       17\n",
      "3        1\n",
      "0        1\n",
      "Name: chlorpropamide, dtype: int64\n",
      "glimepiride Yes\n",
      " 1    6145\n",
      "2     292\n",
      "0      18\n",
      "3      15\n",
      "Name: glimepiride, dtype: int64\n",
      "glimepiride No\n",
      " 1    16841\n",
      "2      848\n",
      "3       64\n",
      "0       33\n",
      "Name: glimepiride, dtype: int64\n",
      "glipizide Yes\n",
      " 1    5655\n",
      "2     721\n",
      "3      60\n",
      "0      34\n",
      "Name: glipizide, dtype: int64\n",
      "glipizide No\n",
      " 1    15688\n",
      "2     1875\n",
      "3      140\n",
      "0       83\n",
      "Name: glipizide, dtype: int64\n",
      "glyburide Yes\n",
      " 1    5725\n",
      "2     655\n",
      "3      56\n",
      "0      34\n",
      "Name: glyburide, dtype: int64\n",
      "glyburide No\n",
      " 1    15902\n",
      "2     1632\n",
      "3      153\n",
      "0       99\n",
      "Name: glyburide, dtype: int64\n",
      "tolbutamide Yes\n",
      " 0    6470\n",
      "Name: tolbutamide, dtype: int64\n",
      "tolbutamide No\n",
      " 0    17781\n",
      "1        5\n",
      "Name: tolbutamide, dtype: int64\n",
      "pioglitazone Yes\n",
      " 1    5993\n",
      "2     454\n",
      "3      15\n",
      "0       8\n",
      "Name: pioglitazone, dtype: int64\n",
      "pioglitazone No\n",
      " 1    16534\n",
      "2     1201\n",
      "3       42\n",
      "0        9\n",
      "Name: pioglitazone, dtype: int64\n",
      "rosiglitazone Yes\n",
      " 1    6046\n",
      "2     412\n",
      "3       9\n",
      "0       3\n",
      "Name: rosiglitazone, dtype: int64\n",
      "rosiglitazone No\n",
      " 1    16648\n",
      "2     1069\n",
      "3       41\n",
      "0       28\n",
      "Name: rosiglitazone, dtype: int64\n",
      "acarbose Yes\n",
      " 0    6449\n",
      "1      18\n",
      "2       3\n",
      "Name: acarbose, dtype: int64\n",
      "acarbose No\n",
      " 0    17737\n",
      "1       47\n",
      "2        2\n",
      "Name: acarbose, dtype: int64\n",
      "miglitol Yes\n",
      " 0    6469\n",
      "1       1\n",
      "Name: miglitol, dtype: int64\n",
      "miglitol No\n",
      " 0    17784\n",
      "1        2\n",
      "Name: miglitol, dtype: int64\n",
      "troglitazone Yes\n",
      " 0    6470\n",
      "Name: troglitazone, dtype: int64\n",
      "troglitazone No\n",
      " 0    17785\n",
      "1        1\n",
      "Name: troglitazone, dtype: int64\n",
      "tolazamide Yes\n",
      " 0    6466\n",
      "1       4\n",
      "Name: tolazamide, dtype: int64\n",
      "tolazamide No\n",
      " 0    17780\n",
      "1        6\n",
      "Name: tolazamide, dtype: int64\n",
      "insulin Yes\n",
      " 1    3044\n",
      "2    2098\n",
      "0     708\n",
      "3     620\n",
      "Name: insulin, dtype: int64\n",
      "insulin No\n",
      " 1    8943\n",
      "2    5528\n",
      "0    1695\n",
      "3    1620\n",
      "Name: insulin, dtype: int64\n",
      "glyburide.metformin Yes\n",
      " 0    6426\n",
      "1      43\n",
      "2       1\n",
      "Name: glyburide.metformin, dtype: int64\n",
      "glyburide.metformin No\n",
      " 0    17685\n",
      "1       99\n",
      "2        2\n",
      "Name: glyburide.metformin, dtype: int64\n",
      "glipizide.metformin Yes\n",
      " 0    6470\n",
      "Name: glipizide.metformin, dtype: int64\n",
      "glipizide.metformin No\n",
      " 0    17785\n",
      "1        1\n",
      "Name: glipizide.metformin, dtype: int64\n",
      "metformin.pioglitazone Yes\n",
      " 0    6470\n",
      "Name: metformin.pioglitazone, dtype: int64\n",
      "metformin.pioglitazone No\n",
      " 0    17785\n",
      "1        1\n",
      "Name: metformin.pioglitazone, dtype: int64\n",
      "change Yes\n",
      " 1    3552\n",
      "0    2918\n",
      "Name: change, dtype: int64\n",
      "change No\n",
      " 1    10145\n",
      "0     7641\n",
      "Name: change, dtype: int64\n",
      "diabetesMed Yes\n",
      " 1    5032\n",
      "0    1438\n",
      "Name: diabetesMed, dtype: int64\n",
      "diabetesMed No\n",
      " 1    13089\n",
      "0     4697\n",
      "Name: diabetesMed, dtype: int64\n"
     ]
    }
   ],
   "source": [
    "for col in data.columns.values:\n",
    "    print(col, 'Yes\\n', data.loc[(data['Target'] == 1), col].value_counts())\n",
    "    print(col, 'No\\n', data.loc[(data['Target'] == 0), col].value_counts())"
   ]
  },
  {
   "cell_type": "code",
   "execution_count": 216,
   "metadata": {},
   "outputs": [
    {
     "name": "stdout",
     "output_type": "stream",
     "text": [
      "race (5,)\n",
      "gender (2,)\n",
      "age (10,)\n",
      "Target (2,)\n",
      "Admission_date (30,)\n",
      "Discharge_date (31,)\n",
      "admission_type_id (8,)\n",
      "admission_source_id (16,)\n",
      "num_procedures (7,)\n",
      "num_medications (8,)\n",
      "num_diagnoses (15,)\n",
      "max_glu_serum (4,)\n",
      "A1Cresult (4,)\n",
      "metformin (4,)\n",
      "repaglinide (4,)\n",
      "nateglinide (4,)\n",
      "chlorpropamide (4,)\n",
      "glimepiride (4,)\n",
      "glipizide (4,)\n",
      "glyburide (4,)\n",
      "tolbutamide (2,)\n",
      "pioglitazone (4,)\n",
      "rosiglitazone (4,)\n",
      "acarbose (3,)\n",
      "miglitol (2,)\n",
      "troglitazone (2,)\n",
      "tolazamide (2,)\n",
      "insulin (4,)\n",
      "glyburide.metformin (3,)\n",
      "glipizide.metformin (2,)\n",
      "metformin.pioglitazone (2,)\n",
      "change (2,)\n",
      "diabetesMed (2,)\n"
     ]
    }
   ],
   "source": [
    "for col in data.columns.values:\n",
    "    print(col, data[col].unique().shape)"
   ]
  },
  {
   "cell_type": "markdown",
   "metadata": {},
   "source": [
    "__calculating chi2 value for features__"
   ]
  },
  {
   "cell_type": "code",
   "execution_count": 217,
   "metadata": {},
   "outputs": [],
   "source": [
    "from sklearn.feature_selection import chi2\n",
    "\n",
    "X = data[data.columns.difference(['Target'])]\n",
    "y = data['Target']\n",
    "correlation_matrix = chi2(X, y)"
   ]
  },
  {
   "cell_type": "code",
   "execution_count": 218,
   "metadata": {},
   "outputs": [
    {
     "name": "stdout",
     "output_type": "stream",
     "text": [
      "A1Cresult 0.9454753289383896\n",
      "Admission_date 0.7608471313234595\n",
      "Discharge_date 0.7380568030555732\n",
      "acarbose 0.29695868099957695\n",
      "admission_source_id 0.6053921892080572\n",
      "admission_type_id 0.4143971550539176\n",
      "age 2.2644755735201055e-05\n",
      "change 0.04984980574244582\n",
      "chlorpropamide 0.9783707883303392\n",
      "diabetesMed 0.0008585041258079548\n",
      "gender 0.5522723187193642\n",
      "glimepiride 0.6852828134875402\n",
      "glipizide 0.5918384263628871\n",
      "glipizide.metformin 0.5464203024817722\n",
      "glyburide 0.5168980226935775\n",
      "glyburide.metformin 0.3046625968333824\n",
      "insulin 0.6076832691312437\n",
      "max_glu_serum 0.9612858623707589\n",
      "metformin 0.4676625681627573\n",
      "metformin.pioglitazone 0.5464203024817722\n",
      "miglitol 0.7942356704672777\n",
      "nateglinide 0.9698564512840893\n",
      "num_diagnoses 1.4421348501272527e-11\n",
      "num_medications 1.9093083898014303e-08\n",
      "num_procedures 0.5892137096588368\n",
      "pioglitazone 0.9031935414103401\n",
      "race 0.4986085097939813\n",
      "repaglinide 0.834896494676853\n",
      "rosiglitazone 0.8486762105729088\n",
      "tolazamide 0.34065576411673926\n",
      "tolbutamide 0.17745066816140465\n",
      "troglitazone 0.5464203024817722\n"
     ]
    }
   ],
   "source": [
    "p_vals = correlation_matrix[1]\n",
    "for i in range(len(X.columns.values)):\n",
    "    print(X.columns.values[i], p_vals[i])"
   ]
  },
  {
   "cell_type": "code",
   "execution_count": 219,
   "metadata": {},
   "outputs": [
    {
     "name": "stdout",
     "output_type": "stream",
     "text": [
      "age 2.2644755735201055e-05\n",
      "change 0.04984980574244582\n",
      "diabetesMed 0.0008585041258079548\n",
      "num_diagnoses 1.4421348501272527e-11\n",
      "num_medications 1.9093083898014303e-08\n"
     ]
    }
   ],
   "source": [
    "p_vals = correlation_matrix[1]\n",
    "unrelated_cols = []\n",
    "for i in range(len(X.columns.values)):\n",
    "    if p_vals[i] < 0.05:\n",
    "        print(X.columns.values[i], p_vals[i])\n",
    "    else:\n",
    "        unrelated_cols.append(X.columns.values[i])"
   ]
  },
  {
   "cell_type": "code",
   "execution_count": 220,
   "metadata": {},
   "outputs": [
    {
     "name": "stderr",
     "output_type": "stream",
     "text": [
      "C:\\Users\\santhosh.kapuluru\\AppData\\Local\\Continuum\\anaconda3\\lib\\site-packages\\sklearn\\linear_model\\logistic.py:433: FutureWarning: Default solver will be changed to 'lbfgs' in 0.22. Specify a solver to silence this warning.\n",
      "  FutureWarning)\n",
      "C:\\Users\\santhosh.kapuluru\\AppData\\Local\\Continuum\\anaconda3\\lib\\site-packages\\sklearn\\linear_model\\logistic.py:433: FutureWarning: Default solver will be changed to 'lbfgs' in 0.22. Specify a solver to silence this warning.\n",
      "  FutureWarning)\n",
      "C:\\Users\\santhosh.kapuluru\\AppData\\Local\\Continuum\\anaconda3\\lib\\site-packages\\sklearn\\linear_model\\logistic.py:433: FutureWarning: Default solver will be changed to 'lbfgs' in 0.22. Specify a solver to silence this warning.\n",
      "  FutureWarning)\n",
      "C:\\Users\\santhosh.kapuluru\\AppData\\Local\\Continuum\\anaconda3\\lib\\site-packages\\sklearn\\linear_model\\logistic.py:433: FutureWarning: Default solver will be changed to 'lbfgs' in 0.22. Specify a solver to silence this warning.\n",
      "  FutureWarning)\n",
      "C:\\Users\\santhosh.kapuluru\\AppData\\Local\\Continuum\\anaconda3\\lib\\site-packages\\sklearn\\linear_model\\logistic.py:433: FutureWarning: Default solver will be changed to 'lbfgs' in 0.22. Specify a solver to silence this warning.\n",
      "  FutureWarning)\n"
     ]
    },
    {
     "name": "stdout",
     "output_type": "stream",
     "text": [
      "[0.73330585 0.73325088 0.73325088 0.73325088 0.73325088]\n",
      "0.7332618715376931 False\n"
     ]
    }
   ],
   "source": [
    "X = data[['age', 'change', 'diabetesMed', 'num_diagnoses', 'num_medications']]\n",
    "y = data['Target']\n",
    "\n",
    "lr = LogisticRegression()\n",
    "scores = cross_val_score(lr, X, y, scoring='accuracy', cv=5)\n",
    "isGoodModel(scores)"
   ]
  },
  {
   "cell_type": "markdown",
   "metadata": {},
   "source": [
    "__accuracy did not change__\n",
    "so removing the other columns from data."
   ]
  },
  {
   "cell_type": "code",
   "execution_count": 221,
   "metadata": {},
   "outputs": [
    {
     "data": {
      "text/plain": [
       "(24256, 6)"
      ]
     },
     "execution_count": 221,
     "metadata": {},
     "output_type": "execute_result"
    }
   ],
   "source": [
    "data = data[['age', 'change', 'diabetesMed', 'num_diagnoses', 'num_medications', 'Target']]\n",
    "data.shape"
   ]
  },
  {
   "cell_type": "code",
   "execution_count": 222,
   "metadata": {},
   "outputs": [
    {
     "data": {
      "text/html": [
       "<div>\n",
       "<style scoped>\n",
       "    .dataframe tbody tr th:only-of-type {\n",
       "        vertical-align: middle;\n",
       "    }\n",
       "\n",
       "    .dataframe tbody tr th {\n",
       "        vertical-align: top;\n",
       "    }\n",
       "\n",
       "    .dataframe thead th {\n",
       "        text-align: right;\n",
       "    }\n",
       "</style>\n",
       "<table border=\"1\" class=\"dataframe\">\n",
       "  <thead>\n",
       "    <tr style=\"text-align: right;\">\n",
       "      <th></th>\n",
       "      <th>age</th>\n",
       "      <th>change</th>\n",
       "      <th>diabetesMed</th>\n",
       "      <th>num_diagnoses</th>\n",
       "      <th>num_medications</th>\n",
       "      <th>Target</th>\n",
       "    </tr>\n",
       "  </thead>\n",
       "  <tbody>\n",
       "    <tr>\n",
       "      <th>0</th>\n",
       "      <td>9</td>\n",
       "      <td>0</td>\n",
       "      <td>1</td>\n",
       "      <td>9</td>\n",
       "      <td>0</td>\n",
       "      <td>0</td>\n",
       "    </tr>\n",
       "    <tr>\n",
       "      <th>1</th>\n",
       "      <td>5</td>\n",
       "      <td>1</td>\n",
       "      <td>0</td>\n",
       "      <td>6</td>\n",
       "      <td>0</td>\n",
       "      <td>1</td>\n",
       "    </tr>\n",
       "    <tr>\n",
       "      <th>2</th>\n",
       "      <td>8</td>\n",
       "      <td>1</td>\n",
       "      <td>0</td>\n",
       "      <td>9</td>\n",
       "      <td>2</td>\n",
       "      <td>0</td>\n",
       "    </tr>\n",
       "    <tr>\n",
       "      <th>3</th>\n",
       "      <td>5</td>\n",
       "      <td>1</td>\n",
       "      <td>1</td>\n",
       "      <td>5</td>\n",
       "      <td>0</td>\n",
       "      <td>0</td>\n",
       "    </tr>\n",
       "    <tr>\n",
       "      <th>4</th>\n",
       "      <td>6</td>\n",
       "      <td>1</td>\n",
       "      <td>0</td>\n",
       "      <td>9</td>\n",
       "      <td>1</td>\n",
       "      <td>1</td>\n",
       "    </tr>\n",
       "  </tbody>\n",
       "</table>\n",
       "</div>"
      ],
      "text/plain": [
       "   age  change  diabetesMed  num_diagnoses num_medications  Target\n",
       "0    9       0            1              9               0       0\n",
       "1    5       1            0              6               0       1\n",
       "2    8       1            0              9               2       0\n",
       "3    5       1            1              5               0       0\n",
       "4    6       1            0              9               1       1"
      ]
     },
     "execution_count": 222,
     "metadata": {},
     "output_type": "execute_result"
    }
   ],
   "source": [
    "data.head()"
   ]
  },
  {
   "cell_type": "markdown",
   "metadata": {},
   "source": [
    "# Model Selection"
   ]
  },
  {
   "cell_type": "code",
   "execution_count": 223,
   "metadata": {},
   "outputs": [
    {
     "name": "stderr",
     "output_type": "stream",
     "text": [
      "C:\\Users\\santhosh.kapuluru\\AppData\\Local\\Continuum\\anaconda3\\lib\\site-packages\\sklearn\\svm\\base.py:931: ConvergenceWarning: Liblinear failed to converge, increase the number of iterations.\n",
      "  \"the number of iterations.\", ConvergenceWarning)\n",
      "C:\\Users\\santhosh.kapuluru\\AppData\\Local\\Continuum\\anaconda3\\lib\\site-packages\\sklearn\\svm\\base.py:931: ConvergenceWarning: Liblinear failed to converge, increase the number of iterations.\n",
      "  \"the number of iterations.\", ConvergenceWarning)\n",
      "C:\\Users\\santhosh.kapuluru\\AppData\\Local\\Continuum\\anaconda3\\lib\\site-packages\\sklearn\\svm\\base.py:931: ConvergenceWarning: Liblinear failed to converge, increase the number of iterations.\n",
      "  \"the number of iterations.\", ConvergenceWarning)\n",
      "C:\\Users\\santhosh.kapuluru\\AppData\\Local\\Continuum\\anaconda3\\lib\\site-packages\\sklearn\\svm\\base.py:931: ConvergenceWarning: Liblinear failed to converge, increase the number of iterations.\n",
      "  \"the number of iterations.\", ConvergenceWarning)\n"
     ]
    },
    {
     "name": "stdout",
     "output_type": "stream",
     "text": [
      "[0.73330585 0.73325088 0.73325088 0.73325088 0.73325088]\n",
      "0.7332618715376931 False\n"
     ]
    },
    {
     "name": "stderr",
     "output_type": "stream",
     "text": [
      "C:\\Users\\santhosh.kapuluru\\AppData\\Local\\Continuum\\anaconda3\\lib\\site-packages\\sklearn\\svm\\base.py:931: ConvergenceWarning: Liblinear failed to converge, increase the number of iterations.\n",
      "  \"the number of iterations.\", ConvergenceWarning)\n"
     ]
    }
   ],
   "source": [
    "from sklearn.svm import LinearSVC\n",
    "lsvc = LinearSVC()\n",
    "scores = cross_val_score(lsvc, X, y, scoring='accuracy', cv=5)\n",
    "isGoodModel(scores)"
   ]
  },
  {
   "cell_type": "code",
   "execution_count": 225,
   "metadata": {},
   "outputs": [
    {
     "name": "stdout",
     "output_type": "stream",
     "text": [
      "[0.67188788 0.68996083 0.66707895 0.67779839 0.6672851 ]\n",
      "0.6748022309675825 False\n"
     ]
    }
   ],
   "source": [
    "from sklearn.neighbors import KNeighborsClassifier\n",
    "knn = KNeighborsClassifier(n_neighbors=5, weights='distance')\n",
    "scores = cross_val_score(knn, X, y, scoring='accuracy', cv=5)\n",
    "isGoodModel(scores)"
   ]
  },
  {
   "cell_type": "code",
   "execution_count": 226,
   "metadata": {},
   "outputs": [
    {
     "name": "stdout",
     "output_type": "stream",
     "text": [
      "[0.73309975 0.73304473 0.73345702 0.73345702 0.73345702]\n",
      "0.7333031086475911 True\n"
     ]
    }
   ],
   "source": [
    "from sklearn.ensemble import AdaBoostClassifier\n",
    "abc = AdaBoostClassifier(n_estimators=250)\n",
    "scores = cross_val_score(abc, X, y, scoring='accuracy', cv=5)\n",
    "isGoodModel(scores)"
   ]
  },
  {
   "cell_type": "code",
   "execution_count": 227,
   "metadata": {},
   "outputs": [
    {
     "name": "stdout",
     "output_type": "stream",
     "text": [
      "[0.73330585 0.73325088 0.7324263  0.73283859 0.73283859]\n",
      "0.7329320426364354 False\n"
     ]
    }
   ],
   "source": [
    "from sklearn.ensemble import GradientBoostingClassifier\n",
    "gbc = GradientBoostingClassifier(loss='deviance', n_estimators=200)\n",
    "scores = cross_val_score(gbc, X, y, scoring='accuracy', cv=5)\n",
    "isGoodModel(scores)"
   ]
  },
  {
   "cell_type": "code",
   "execution_count": 228,
   "metadata": {},
   "outputs": [],
   "source": [
    "data['num_medications'] = le.fit_transform(data['num_medications'])\n",
    "X = data[['age', 'change', 'diabetesMed', 'num_diagnoses', 'num_medications']]\n",
    "y = data['Target']"
   ]
  },
  {
   "cell_type": "code",
   "execution_count": 229,
   "metadata": {},
   "outputs": [
    {
     "name": "stdout",
     "output_type": "stream",
     "text": [
      "[0.73309975 0.73325088 0.73304473 0.73345702 0.73345702]\n",
      "0.7332618800349339 True\n"
     ]
    }
   ],
   "source": [
    "from xgboost import XGBClassifier\n",
    "xgbc = XGBClassifier()\n",
    "scores = cross_val_score(xgbc, X, y, scoring='accuracy', cv=5)\n",
    "isGoodModel(scores)"
   ]
  },
  {
   "cell_type": "markdown",
   "metadata": {},
   "source": [
    "__AdaBoostClassifier and XGBoostClassifier__ by far has the best accuracy"
   ]
  },
  {
   "cell_type": "markdown",
   "metadata": {},
   "source": [
    "# Model Tuning"
   ]
  },
  {
   "cell_type": "code",
   "execution_count": 230,
   "metadata": {},
   "outputs": [
    {
     "name": "stdout",
     "output_type": "stream",
     "text": [
      "0.7332618733509235 {'n_estimators': 250}\n"
     ]
    }
   ],
   "source": [
    "from sklearn.model_selection import GridSearchCV\n",
    "\n",
    "params = {\n",
    "    \"n_estimators\": [100, 150, 200, 250, 300]\n",
    "}\n",
    "\n",
    "grid_search = GridSearchCV(AdaBoostClassifier(), params, scoring='accuracy', cv=3)\n",
    "grid_search.fit(X, y)\n",
    "print(grid_search.best_score_, grid_search.best_params_)\n",
    "rfc_cv_results = pd.DataFrame(grid_search.cv_results_)"
   ]
  },
  {
   "cell_type": "code",
   "execution_count": 231,
   "metadata": {},
   "outputs": [
    {
     "name": "stdout",
     "output_type": "stream",
     "text": [
      "0.7246866754617414 {'base_estimator__criterion': 'entropy', 'base_estimator__splitter': 'best'}\n"
     ]
    }
   ],
   "source": [
    "from sklearn.tree import DecisionTreeClassifier\n",
    "\n",
    "params = {\n",
    "    \"base_estimator__criterion\" : [\"gini\", \"entropy\"],\n",
    "    \"base_estimator__splitter\" :   [\"best\", \"random\"],\n",
    "}\n",
    "\n",
    "dtc = DecisionTreeClassifier()\n",
    "abc = AdaBoostClassifier(base_estimator = dtc)\n",
    "grid_search = GridSearchCV(abc, param_grid=params, scoring = 'accuracy', cv=3)\n",
    "grid_search.fit(X, y)\n",
    "print(grid_search.best_score_, grid_search.best_params_)\n",
    "abc_cv_results = pd.DataFrame(grid_search.cv_results_)"
   ]
  },
  {
   "cell_type": "code",
   "execution_count": 232,
   "metadata": {},
   "outputs": [
    {
     "name": "stdout",
     "output_type": "stream",
     "text": [
      "1 iter complete\n",
      "2 iter complete\n",
      "3 iter complete\n",
      "4 iter complete\n",
      "5 iter complete\n"
     ]
    },
    {
     "data": {
      "text/plain": [
       "0.7332692043424488"
      ]
     },
     "execution_count": 232,
     "metadata": {},
     "output_type": "execute_result"
    }
   ],
   "source": [
    "from sklearn.model_selection import StratifiedShuffleSplit\n",
    "from sklearn.metrics import accuracy_score\n",
    "\n",
    "abc = AdaBoostClassifier(n_estimators=250)\n",
    "\n",
    "sss = StratifiedShuffleSplit(n_splits=5, test_size=0.3)\n",
    "sss.get_n_splits(X, y)\n",
    "scores = []; i=1; total_score = 0\n",
    "for train_index, test_index in sss.split(X, y):\n",
    "    X_train, X_test = X.iloc[train_index], X.iloc[test_index]\n",
    "    y_train, y_test = y.iloc[train_index], y.iloc[test_index]\n",
    "    abc.fit(X_train, y_train)\n",
    "    y_pred = abc.predict(X_test)\n",
    "    score = accuracy_score(y_test, y_pred)\n",
    "    scores.append(score)\n",
    "    total_score += score\n",
    "    print(i, 'iter complete')\n",
    "    i += 1\n",
    "total_score/5"
   ]
  },
  {
   "cell_type": "code",
   "execution_count": 233,
   "metadata": {},
   "outputs": [
    {
     "data": {
      "text/plain": [
       "[0.7332692043424488,\n",
       " 0.7332692043424488,\n",
       " 0.7332692043424488,\n",
       " 0.7332692043424488,\n",
       " 0.7332692043424488]"
      ]
     },
     "execution_count": 233,
     "metadata": {},
     "output_type": "execute_result"
    }
   ],
   "source": [
    "scores"
   ]
  },
  {
   "cell_type": "code",
   "execution_count": 234,
   "metadata": {},
   "outputs": [
    {
     "data": {
      "text/html": [
       "<div>\n",
       "<style scoped>\n",
       "    .dataframe tbody tr th:only-of-type {\n",
       "        vertical-align: middle;\n",
       "    }\n",
       "\n",
       "    .dataframe tbody tr th {\n",
       "        vertical-align: top;\n",
       "    }\n",
       "\n",
       "    .dataframe thead th {\n",
       "        text-align: right;\n",
       "    }\n",
       "</style>\n",
       "<table border=\"1\" class=\"dataframe\">\n",
       "  <thead>\n",
       "    <tr style=\"text-align: right;\">\n",
       "      <th></th>\n",
       "      <th>patientID</th>\n",
       "      <th>race</th>\n",
       "      <th>gender</th>\n",
       "      <th>age</th>\n",
       "      <th>Target</th>\n",
       "      <th>istrain</th>\n",
       "      <th>AdmissionID</th>\n",
       "      <th>Admission_date</th>\n",
       "      <th>Discharge_date</th>\n",
       "      <th>admission_type_id</th>\n",
       "      <th>...</th>\n",
       "      <th>miglitol</th>\n",
       "      <th>troglitazone</th>\n",
       "      <th>tolazamide</th>\n",
       "      <th>insulin</th>\n",
       "      <th>glyburide.metformin</th>\n",
       "      <th>glipizide.metformin</th>\n",
       "      <th>metformin.pioglitazone</th>\n",
       "      <th>change</th>\n",
       "      <th>diabetesMed</th>\n",
       "      <th>istrain_y</th>\n",
       "    </tr>\n",
       "  </thead>\n",
       "  <tbody>\n",
       "    <tr>\n",
       "      <th>0</th>\n",
       "      <td>PT456611</td>\n",
       "      <td>type3</td>\n",
       "      <td>Female</td>\n",
       "      <td>[90-100)</td>\n",
       "      <td>NaN</td>\n",
       "      <td>0</td>\n",
       "      <td>AD988251</td>\n",
       "      <td>201505</td>\n",
       "      <td>201505</td>\n",
       "      <td>1</td>\n",
       "      <td>...</td>\n",
       "      <td>No</td>\n",
       "      <td>No</td>\n",
       "      <td>No</td>\n",
       "      <td>Steady</td>\n",
       "      <td>No</td>\n",
       "      <td>No</td>\n",
       "      <td>No</td>\n",
       "      <td>Ch</td>\n",
       "      <td>Yes</td>\n",
       "      <td>0</td>\n",
       "    </tr>\n",
       "    <tr>\n",
       "      <th>1</th>\n",
       "      <td>PT956824</td>\n",
       "      <td>type1</td>\n",
       "      <td>Male</td>\n",
       "      <td>[50-60)</td>\n",
       "      <td>NaN</td>\n",
       "      <td>0</td>\n",
       "      <td>AD725487</td>\n",
       "      <td>201402</td>\n",
       "      <td>201402</td>\n",
       "      <td>1</td>\n",
       "      <td>...</td>\n",
       "      <td>No</td>\n",
       "      <td>No</td>\n",
       "      <td>No</td>\n",
       "      <td>No</td>\n",
       "      <td>No</td>\n",
       "      <td>No</td>\n",
       "      <td>No</td>\n",
       "      <td>No</td>\n",
       "      <td>No</td>\n",
       "      <td>0</td>\n",
       "    </tr>\n",
       "    <tr>\n",
       "      <th>2</th>\n",
       "      <td>PT453330</td>\n",
       "      <td>type3</td>\n",
       "      <td>Female</td>\n",
       "      <td>[80-90)</td>\n",
       "      <td>NaN</td>\n",
       "      <td>0</td>\n",
       "      <td>AD492141</td>\n",
       "      <td>201506</td>\n",
       "      <td>201506</td>\n",
       "      <td>1</td>\n",
       "      <td>...</td>\n",
       "      <td>No</td>\n",
       "      <td>No</td>\n",
       "      <td>No</td>\n",
       "      <td>No</td>\n",
       "      <td>No</td>\n",
       "      <td>No</td>\n",
       "      <td>No</td>\n",
       "      <td>No</td>\n",
       "      <td>No</td>\n",
       "      <td>0</td>\n",
       "    </tr>\n",
       "    <tr>\n",
       "      <th>3</th>\n",
       "      <td>PT677563</td>\n",
       "      <td>type3</td>\n",
       "      <td>Female</td>\n",
       "      <td>[50-60)</td>\n",
       "      <td>NaN</td>\n",
       "      <td>0</td>\n",
       "      <td>AD561393</td>\n",
       "      <td>201512</td>\n",
       "      <td>201512</td>\n",
       "      <td>2</td>\n",
       "      <td>...</td>\n",
       "      <td>No</td>\n",
       "      <td>No</td>\n",
       "      <td>No</td>\n",
       "      <td>Steady</td>\n",
       "      <td>No</td>\n",
       "      <td>No</td>\n",
       "      <td>No</td>\n",
       "      <td>No</td>\n",
       "      <td>Yes</td>\n",
       "      <td>0</td>\n",
       "    </tr>\n",
       "    <tr>\n",
       "      <th>4</th>\n",
       "      <td>PT102924</td>\n",
       "      <td>type3</td>\n",
       "      <td>Male</td>\n",
       "      <td>[60-70)</td>\n",
       "      <td>NaN</td>\n",
       "      <td>0</td>\n",
       "      <td>AD619257</td>\n",
       "      <td>201508</td>\n",
       "      <td>201508</td>\n",
       "      <td>3</td>\n",
       "      <td>...</td>\n",
       "      <td>No</td>\n",
       "      <td>No</td>\n",
       "      <td>No</td>\n",
       "      <td>No</td>\n",
       "      <td>No</td>\n",
       "      <td>No</td>\n",
       "      <td>No</td>\n",
       "      <td>No</td>\n",
       "      <td>No</td>\n",
       "      <td>0</td>\n",
       "    </tr>\n",
       "  </tbody>\n",
       "</table>\n",
       "<p>5 rows × 38 columns</p>\n",
       "</div>"
      ],
      "text/plain": [
       "  patientID   race  gender       age Target  istrain AdmissionID  \\\n",
       "0  PT456611  type3  Female  [90-100)    NaN        0    AD988251   \n",
       "1  PT956824  type1    Male   [50-60)    NaN        0    AD725487   \n",
       "2  PT453330  type3  Female   [80-90)    NaN        0    AD492141   \n",
       "3  PT677563  type3  Female   [50-60)    NaN        0    AD561393   \n",
       "4  PT102924  type3    Male   [60-70)    NaN        0    AD619257   \n",
       "\n",
       "   Admission_date  Discharge_date  admission_type_id  ...  miglitol  \\\n",
       "0          201505          201505                  1  ...        No   \n",
       "1          201402          201402                  1  ...        No   \n",
       "2          201506          201506                  1  ...        No   \n",
       "3          201512          201512                  2  ...        No   \n",
       "4          201508          201508                  3  ...        No   \n",
       "\n",
       "   troglitazone  tolazamide insulin  glyburide.metformin glipizide.metformin  \\\n",
       "0            No          No  Steady                   No                  No   \n",
       "1            No          No      No                   No                  No   \n",
       "2            No          No      No                   No                  No   \n",
       "3            No          No  Steady                   No                  No   \n",
       "4            No          No      No                   No                  No   \n",
       "\n",
       "  metformin.pioglitazone change diabetesMed istrain_y  \n",
       "0                     No     Ch         Yes         0  \n",
       "1                     No     No          No         0  \n",
       "2                     No     No          No         0  \n",
       "3                     No     No         Yes         0  \n",
       "4                     No     No          No         0  \n",
       "\n",
       "[5 rows x 38 columns]"
      ]
     },
     "execution_count": 234,
     "metadata": {},
     "output_type": "execute_result"
    }
   ],
   "source": [
    "test_data.head()"
   ]
  },
  {
   "cell_type": "code",
   "execution_count": 235,
   "metadata": {},
   "outputs": [
    {
     "data": {
      "text/html": [
       "<div>\n",
       "<style scoped>\n",
       "    .dataframe tbody tr th:only-of-type {\n",
       "        vertical-align: middle;\n",
       "    }\n",
       "\n",
       "    .dataframe tbody tr th {\n",
       "        vertical-align: top;\n",
       "    }\n",
       "\n",
       "    .dataframe thead th {\n",
       "        text-align: right;\n",
       "    }\n",
       "</style>\n",
       "<table border=\"1\" class=\"dataframe\">\n",
       "  <thead>\n",
       "    <tr style=\"text-align: right;\">\n",
       "      <th></th>\n",
       "      <th>age</th>\n",
       "      <th>change</th>\n",
       "      <th>diabetesMed</th>\n",
       "      <th>num_diagnoses</th>\n",
       "      <th>num_medications</th>\n",
       "    </tr>\n",
       "  </thead>\n",
       "  <tbody>\n",
       "    <tr>\n",
       "      <th>0</th>\n",
       "      <td>[90-100)</td>\n",
       "      <td>Ch</td>\n",
       "      <td>Yes</td>\n",
       "      <td>9</td>\n",
       "      <td>0</td>\n",
       "    </tr>\n",
       "    <tr>\n",
       "      <th>1</th>\n",
       "      <td>[50-60)</td>\n",
       "      <td>No</td>\n",
       "      <td>No</td>\n",
       "      <td>6</td>\n",
       "      <td>0</td>\n",
       "    </tr>\n",
       "    <tr>\n",
       "      <th>2</th>\n",
       "      <td>[80-90)</td>\n",
       "      <td>No</td>\n",
       "      <td>No</td>\n",
       "      <td>9</td>\n",
       "      <td>2</td>\n",
       "    </tr>\n",
       "    <tr>\n",
       "      <th>3</th>\n",
       "      <td>[50-60)</td>\n",
       "      <td>No</td>\n",
       "      <td>Yes</td>\n",
       "      <td>5</td>\n",
       "      <td>0</td>\n",
       "    </tr>\n",
       "    <tr>\n",
       "      <th>4</th>\n",
       "      <td>[60-70)</td>\n",
       "      <td>No</td>\n",
       "      <td>No</td>\n",
       "      <td>9</td>\n",
       "      <td>1</td>\n",
       "    </tr>\n",
       "  </tbody>\n",
       "</table>\n",
       "</div>"
      ],
      "text/plain": [
       "        age change diabetesMed  num_diagnoses num_medications\n",
       "0  [90-100)     Ch         Yes              9               0\n",
       "1   [50-60)     No          No              6               0\n",
       "2   [80-90)     No          No              9               2\n",
       "3   [50-60)     No         Yes              5               0\n",
       "4   [60-70)     No          No              9               1"
      ]
     },
     "execution_count": 235,
     "metadata": {},
     "output_type": "execute_result"
    }
   ],
   "source": [
    "final_test = test_data[['age', 'change', 'diabetesMed', 'num_diagnoses', 'num_medications']]\n",
    "final_test.head()"
   ]
  },
  {
   "cell_type": "code",
   "execution_count": 236,
   "metadata": {},
   "outputs": [
    {
     "data": {
      "text/html": [
       "<div>\n",
       "<style scoped>\n",
       "    .dataframe tbody tr th:only-of-type {\n",
       "        vertical-align: middle;\n",
       "    }\n",
       "\n",
       "    .dataframe tbody tr th {\n",
       "        vertical-align: top;\n",
       "    }\n",
       "\n",
       "    .dataframe thead th {\n",
       "        text-align: right;\n",
       "    }\n",
       "</style>\n",
       "<table border=\"1\" class=\"dataframe\">\n",
       "  <thead>\n",
       "    <tr style=\"text-align: right;\">\n",
       "      <th></th>\n",
       "      <th>age</th>\n",
       "      <th>change</th>\n",
       "      <th>diabetesMed</th>\n",
       "      <th>num_diagnoses</th>\n",
       "      <th>num_medications</th>\n",
       "      <th>Target</th>\n",
       "    </tr>\n",
       "  </thead>\n",
       "  <tbody>\n",
       "    <tr>\n",
       "      <th>0</th>\n",
       "      <td>9</td>\n",
       "      <td>0</td>\n",
       "      <td>1</td>\n",
       "      <td>9</td>\n",
       "      <td>0</td>\n",
       "      <td>0</td>\n",
       "    </tr>\n",
       "    <tr>\n",
       "      <th>1</th>\n",
       "      <td>5</td>\n",
       "      <td>1</td>\n",
       "      <td>0</td>\n",
       "      <td>6</td>\n",
       "      <td>0</td>\n",
       "      <td>1</td>\n",
       "    </tr>\n",
       "    <tr>\n",
       "      <th>2</th>\n",
       "      <td>8</td>\n",
       "      <td>1</td>\n",
       "      <td>0</td>\n",
       "      <td>9</td>\n",
       "      <td>2</td>\n",
       "      <td>0</td>\n",
       "    </tr>\n",
       "    <tr>\n",
       "      <th>3</th>\n",
       "      <td>5</td>\n",
       "      <td>1</td>\n",
       "      <td>1</td>\n",
       "      <td>5</td>\n",
       "      <td>0</td>\n",
       "      <td>0</td>\n",
       "    </tr>\n",
       "    <tr>\n",
       "      <th>4</th>\n",
       "      <td>6</td>\n",
       "      <td>1</td>\n",
       "      <td>0</td>\n",
       "      <td>9</td>\n",
       "      <td>1</td>\n",
       "      <td>1</td>\n",
       "    </tr>\n",
       "  </tbody>\n",
       "</table>\n",
       "</div>"
      ],
      "text/plain": [
       "   age  change  diabetesMed  num_diagnoses  num_medications  Target\n",
       "0    9       0            1              9                0       0\n",
       "1    5       1            0              6                0       1\n",
       "2    8       1            0              9                2       0\n",
       "3    5       1            1              5                0       0\n",
       "4    6       1            0              9                1       1"
      ]
     },
     "execution_count": 236,
     "metadata": {},
     "output_type": "execute_result"
    }
   ],
   "source": [
    "data.head()"
   ]
  },
  {
   "cell_type": "code",
   "execution_count": 238,
   "metadata": {},
   "outputs": [
    {
     "data": {
      "text/html": [
       "<div>\n",
       "<style scoped>\n",
       "    .dataframe tbody tr th:only-of-type {\n",
       "        vertical-align: middle;\n",
       "    }\n",
       "\n",
       "    .dataframe tbody tr th {\n",
       "        vertical-align: top;\n",
       "    }\n",
       "\n",
       "    .dataframe thead th {\n",
       "        text-align: right;\n",
       "    }\n",
       "</style>\n",
       "<table border=\"1\" class=\"dataframe\">\n",
       "  <thead>\n",
       "    <tr style=\"text-align: right;\">\n",
       "      <th></th>\n",
       "      <th>age</th>\n",
       "      <th>change</th>\n",
       "      <th>diabetesMed</th>\n",
       "      <th>num_diagnoses</th>\n",
       "      <th>num_medications</th>\n",
       "    </tr>\n",
       "  </thead>\n",
       "  <tbody>\n",
       "    <tr>\n",
       "      <th>0</th>\n",
       "      <td>9</td>\n",
       "      <td>0</td>\n",
       "      <td>1</td>\n",
       "      <td>9</td>\n",
       "      <td>0</td>\n",
       "    </tr>\n",
       "    <tr>\n",
       "      <th>1</th>\n",
       "      <td>5</td>\n",
       "      <td>1</td>\n",
       "      <td>0</td>\n",
       "      <td>6</td>\n",
       "      <td>0</td>\n",
       "    </tr>\n",
       "    <tr>\n",
       "      <th>2</th>\n",
       "      <td>8</td>\n",
       "      <td>1</td>\n",
       "      <td>0</td>\n",
       "      <td>9</td>\n",
       "      <td>2</td>\n",
       "    </tr>\n",
       "    <tr>\n",
       "      <th>3</th>\n",
       "      <td>5</td>\n",
       "      <td>1</td>\n",
       "      <td>1</td>\n",
       "      <td>5</td>\n",
       "      <td>0</td>\n",
       "    </tr>\n",
       "    <tr>\n",
       "      <th>4</th>\n",
       "      <td>6</td>\n",
       "      <td>1</td>\n",
       "      <td>0</td>\n",
       "      <td>9</td>\n",
       "      <td>1</td>\n",
       "    </tr>\n",
       "  </tbody>\n",
       "</table>\n",
       "</div>"
      ],
      "text/plain": [
       "   age  change  diabetesMed  num_diagnoses num_medications\n",
       "0    9       0            1              9               0\n",
       "1    5       1            0              6               0\n",
       "2    8       1            0              9               2\n",
       "3    5       1            1              5               0\n",
       "4    6       1            0              9               1"
      ]
     },
     "execution_count": 238,
     "metadata": {},
     "output_type": "execute_result"
    }
   ],
   "source": [
    "for col in ['age', 'change', 'diabetesMed']:\n",
    "    final_test[col] = le.fit_transform(final_test[col].astype(str))\n",
    "final_test.head()"
   ]
  },
  {
   "cell_type": "code",
   "execution_count": 240,
   "metadata": {},
   "outputs": [],
   "source": [
    "test_data_predictions = abc.predict(final_test)"
   ]
  },
  {
   "cell_type": "code",
   "execution_count": 254,
   "metadata": {},
   "outputs": [
    {
     "data": {
      "text/html": [
       "<div>\n",
       "<style scoped>\n",
       "    .dataframe tbody tr th:only-of-type {\n",
       "        vertical-align: middle;\n",
       "    }\n",
       "\n",
       "    .dataframe tbody tr th {\n",
       "        vertical-align: top;\n",
       "    }\n",
       "\n",
       "    .dataframe thead th {\n",
       "        text-align: right;\n",
       "    }\n",
       "</style>\n",
       "<table border=\"1\" class=\"dataframe\">\n",
       "  <thead>\n",
       "    <tr style=\"text-align: right;\">\n",
       "      <th></th>\n",
       "      <th>patientID</th>\n",
       "      <th>Target</th>\n",
       "    </tr>\n",
       "  </thead>\n",
       "  <tbody>\n",
       "    <tr>\n",
       "      <th>0</th>\n",
       "      <td>PT456611</td>\n",
       "      <td>0</td>\n",
       "    </tr>\n",
       "    <tr>\n",
       "      <th>1</th>\n",
       "      <td>PT956824</td>\n",
       "      <td>0</td>\n",
       "    </tr>\n",
       "    <tr>\n",
       "      <th>2</th>\n",
       "      <td>PT453330</td>\n",
       "      <td>0</td>\n",
       "    </tr>\n",
       "    <tr>\n",
       "      <th>3</th>\n",
       "      <td>PT677563</td>\n",
       "      <td>0</td>\n",
       "    </tr>\n",
       "    <tr>\n",
       "      <th>4</th>\n",
       "      <td>PT102924</td>\n",
       "      <td>0</td>\n",
       "    </tr>\n",
       "  </tbody>\n",
       "</table>\n",
       "</div>"
      ],
      "text/plain": [
       "  patientID  Target\n",
       "0  PT456611       0\n",
       "1  PT956824       0\n",
       "2  PT453330       0\n",
       "3  PT677563       0\n",
       "4  PT102924       0"
      ]
     },
     "execution_count": 254,
     "metadata": {},
     "output_type": "execute_result"
    }
   ],
   "source": [
    "final_output['patientID'] = test_data['patientID'].astype(str)\n",
    "final_output['Target'] = test_data_predictions\n",
    "final_output = final_output[['patientID', 'Target']]\n",
    "final_output.head()"
   ]
  },
  {
   "cell_type": "code",
   "execution_count": 257,
   "metadata": {},
   "outputs": [],
   "source": [
    "file_name = 'E:\\\\workspace\\\\python\\\\scikitlearn\\\\onbaording2\\\\ML-onboarding\\\\Patient Readmission Assignment\\\\final_output.csv'\n",
    "final_output.to_csv(file_name, sep='\\t')"
   ]
  },
  {
   "cell_type": "code",
   "execution_count": null,
   "metadata": {},
   "outputs": [],
   "source": []
  }
 ],
 "metadata": {
  "kernelspec": {
   "display_name": "Python 3",
   "language": "python",
   "name": "python3"
  },
  "language_info": {
   "codemirror_mode": {
    "name": "ipython",
    "version": 3
   },
   "file_extension": ".py",
   "mimetype": "text/x-python",
   "name": "python",
   "nbconvert_exporter": "python",
   "pygments_lexer": "ipython3",
   "version": "3.7.3"
  }
 },
 "nbformat": 4,
 "nbformat_minor": 2
}
