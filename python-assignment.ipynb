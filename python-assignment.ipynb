{
 "cells": [
  {
   "cell_type": "markdown",
   "metadata": {},
   "source": [
    "# Problem 3"
   ]
  },
  {
   "cell_type": "code",
   "execution_count": 4,
   "metadata": {},
   "outputs": [],
   "source": [
    "N = 5; M = 3\n",
    "arr = [[10, 2, 5],\n",
    "[7, 1, 0],\n",
    "[9, 9, 9],\n",
    "[1, 23, 12],\n",
    "[6, 5, 9]]\n",
    "k = 1"
   ]
  },
  {
   "cell_type": "code",
   "execution_count": 5,
   "metadata": {},
   "outputs": [
    {
     "data": {
      "text/plain": [
       "[[7, 1, 0], [10, 2, 5], [6, 5, 9], [9, 9, 9], [1, 23, 12]]"
      ]
     },
     "execution_count": 5,
     "metadata": {},
     "output_type": "execute_result"
    }
   ],
   "source": [
    "sorted(arr, key=lambda x: x[k])"
   ]
  },
  {
   "cell_type": "markdown",
   "metadata": {},
   "source": [
    "# Problem 1"
   ]
  },
  {
   "cell_type": "code",
   "execution_count": 6,
   "metadata": {},
   "outputs": [],
   "source": [
    "import re"
   ]
  },
  {
   "cell_type": "code",
   "execution_count": 7,
   "metadata": {},
   "outputs": [],
   "source": [
    "cc_nos = ['4253625879615786', '4424424424442444', '5122-2368-7954-3214', '42536258796157867', '4424444424442444', \n",
    "         '5122-2368-7954 - 3214', '44244x4424442444', '0525362587961578']"
   ]
  },
  {
   "cell_type": "code",
   "execution_count": 9,
   "metadata": {},
   "outputs": [
    {
     "name": "stdout",
     "output_type": "stream",
     "text": [
      "valid\n",
      "valid\n",
      "valid\n",
      "Invalid\n",
      "Invalid\n",
      "Invalid\n",
      "Invalid\n",
      "Invalid\n"
     ]
    }
   ],
   "source": [
    "for cc in cc_nos:\n",
    "    if re.match(r'(^[456])(?!\\1{3})\\d{3}-?(\\d)(?!\\2{3})\\d{3}-?(\\d)(?!\\3{3})\\d{3}-?(\\d)(?!\\3{3})\\d{3}$', cc):\n",
    "        print('valid')\n",
    "    else:\n",
    "        print('Invalid')"
   ]
  },
  {
   "cell_type": "markdown",
   "metadata": {},
   "source": [
    "# Problem 2"
   ]
  },
  {
   "cell_type": "code",
   "execution_count": 15,
   "metadata": {},
   "outputs": [],
   "source": [
    "s = 'AABCAAADA'; k=3"
   ]
  },
  {
   "cell_type": "code",
   "execution_count": 16,
   "metadata": {},
   "outputs": [
    {
     "name": "stdout",
     "output_type": "stream",
     "text": [
      "AB\n",
      "CA\n",
      "AD\n"
     ]
    }
   ],
   "source": [
    "i = 0\n",
    "substring = ''\n",
    "alpha_arr = [0]*26\n",
    "while i < len(s):\n",
    "    alpha_index = ord(s[i])-65\n",
    "    if alpha_arr[alpha_index] > 0:\n",
    "        pass\n",
    "    else:\n",
    "        substring += s[i]\n",
    "        alpha_arr[alpha_index] += 1\n",
    "    if (i+1)%k == 0:\n",
    "        print(substring)\n",
    "        substring = ''\n",
    "        alpha_arr = [0]*26\n",
    "    i += 1"
   ]
  }
 ],
 "metadata": {
  "kernelspec": {
   "display_name": "Python 3",
   "language": "python",
   "name": "python3"
  },
  "language_info": {
   "codemirror_mode": {
    "name": "ipython",
    "version": 3
   },
   "file_extension": ".py",
   "mimetype": "text/x-python",
   "name": "python",
   "nbconvert_exporter": "python",
   "pygments_lexer": "ipython3",
   "version": "3.7.3"
  }
 },
 "nbformat": 4,
 "nbformat_minor": 2
}
